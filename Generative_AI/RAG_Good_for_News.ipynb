{
 "cells": [
  {
   "cell_type": "markdown",
   "id": "0b6c8e89",
   "metadata": {},
   "source": [
    "## RAG Good for News"
   ]
  },
  {
   "cell_type": "code",
   "execution_count": null,
   "id": "14051203",
   "metadata": {},
   "outputs": [],
   "source": [
    "!pip install -q transformers\n",
    "!pip install -q sentence-transformers\n",
    "!pip install -q faiss-cpu\n",
    "!pip install -q pandas"
   ]
  },
  {
   "cell_type": "code",
   "execution_count": 10,
   "id": "8eae7df9",
   "metadata": {},
   "outputs": [],
   "source": [
    "from transformers import pipeline\n",
    "from sentence_transformers import SentenceTransformer\n",
    "import torch\n",
    "import pandas as pd\n",
    "import faiss\n",
    "import requests\n",
    "from io import StringIO"
   ]
  },
  {
   "cell_type": "code",
   "execution_count": 11,
   "id": "33d50da0",
   "metadata": {},
   "outputs": [
    {
     "name": "stdout",
     "output_type": "stream",
     "text": [
      "📚 Downloading AG News dataset from GitHub...\n"
     ]
    }
   ],
   "source": [
    "# ✅ Step 1: Download AG News CSV Manually\n",
    "\n",
    "print(\"📚 Downloading AG News dataset from GitHub...\")\n",
    "csv_url = \"https://raw.githubusercontent.com/mhjabreel/CharCnn_Keras/master/data/ag_news_csv/train.csv\""
   ]
  },
  {
   "cell_type": "code",
   "execution_count": 12,
   "id": "c4e4aa8d",
   "metadata": {},
   "outputs": [
    {
     "name": "stdout",
     "output_type": "stream",
     "text": [
      "✅ Loaded 1000 news entries.\n"
     ]
    }
   ],
   "source": [
    "try:\n",
    "\n",
    "    response = requests.get(csv_url)\n",
    "    raw_csv = StringIO(response.text)\n",
    "    df = pd.read_csv(raw_csv, header=None)\n",
    "    df.columns = [\"label\", \"title\", \"description\"]\n",
    "    df['text'] = df['title'] + \". \" + df['description']\n",
    "    df = df.head(1000)  # use only 1000 samples\n",
    "    print(f\"✅ Loaded {len(df)} news entries.\")\n",
    "\n",
    "except Exception as e:\n",
    "    print(f\"❌ Download failed: {e}\")\n",
    "    df = pd.DataFrame()"
   ]
  },
  {
   "cell_type": "code",
   "execution_count": 17,
   "id": "cc432e63",
   "metadata": {},
   "outputs": [
    {
     "name": "stdout",
     "output_type": "stream",
     "text": [
      "🔄 Creating embeddings...\n"
     ]
    },
    {
     "name": "stderr",
     "output_type": "stream",
     "text": [
      "Batches: 100%|██████████████████████████████████████████████████████████████████████████| 32/32 [00:02<00:00, 15.20it/s]\n"
     ]
    }
   ],
   "source": [
    "# ✅ Step 2: Create Embeddings\n",
    "\n",
    "if not df.empty:\n",
    "    print(\"🔄 Creating embeddings...\")\n",
    "    model = SentenceTransformer('all-MiniLM-L6-v2')\n",
    "    embeddings = model.encode(\n",
    "        df['text'].tolist(),\n",
    "        show_progress_bar=True,\n",
    "        batch_size=32\n",
    "    )\n",
    "else:\n",
    "    print(\"⚠️ DataFrame is empty. Please check download or environment.\")"
   ]
  },
  {
   "cell_type": "code",
   "execution_count": 18,
   "id": "956c4a15",
   "metadata": {},
   "outputs": [],
   "source": [
    "# ✅ Step 3: Build FAISS Index\n",
    "\n",
    "dimension = embeddings.shape[1]\n",
    "index = faiss.IndexFlatL2(dimension)\n",
    "index.add(embeddings.astype('float32'))"
   ]
  },
  {
   "cell_type": "code",
   "execution_count": 19,
   "id": "ea6d237f",
   "metadata": {},
   "outputs": [
    {
     "name": "stdout",
     "output_type": "stream",
     "text": [
      "🧠 Loading QA pipeline...\n"
     ]
    },
    {
     "name": "stderr",
     "output_type": "stream",
     "text": [
      "Device set to use cuda:0\n"
     ]
    }
   ],
   "source": [
    "# ✅ Step 4: Load QA Pipeline\n",
    "\n",
    "print(\"🧠 Loading QA pipeline...\")\n",
    "qa_pipeline = pipeline(\n",
    "        \"question-answering\",\n",
    "        model=\"distilbert-base-cased-distilled-squad\",\n",
    "        device=0 if torch.cuda.is_available() else -1\n",
    "    )"
   ]
  },
  {
   "cell_type": "code",
   "execution_count": 20,
   "id": "c5690957",
   "metadata": {},
   "outputs": [],
   "source": [
    "# ✅ Step 5: Define QA Function\n",
    "\n",
    "def answer_news_question(question, k=3):\n",
    "    question_embedding = model.encode([question])[0]\n",
    "    distances, indices = index.search(\n",
    "        question_embedding.reshape(1, -1).astype('float32'), k\n",
    "        )\n",
    "\n",
    "    relevant_articles = [df['text'][i] for i in indices[0]]\n",
    "    context = \" \".join(relevant_articles)[:4500]\n",
    "        \n",
    "    try:\n",
    "        answer = qa_pipeline(question=question, context=context)\n",
    "        return {\n",
    "                'answer': answer['answer'],\n",
    "                'context': relevant_articles\n",
    "            }\n",
    "\n",
    "    except Exception as e:\n",
    "        return {\n",
    "                'answer': f\"Error: {str(e)}\",\n",
    "                'context': relevant_articles\n",
    "            }"
   ]
  },
  {
   "cell_type": "code",
   "execution_count": 21,
   "id": "09edffd0",
   "metadata": {},
   "outputs": [],
   "source": [
    "# ✅ Step 6: Ask a Question\n",
    "\n",
    "question = \"What kind of events are reported in the news?\"\n",
    "result = answer_news_question(question)"
   ]
  },
  {
   "cell_type": "code",
   "execution_count": 22,
   "id": "5888d063",
   "metadata": {},
   "outputs": [
    {
     "name": "stdout",
     "output_type": "stream",
     "text": [
      "\n",
      "🔎 Question: What kind of events are reported in the news?\n",
      "💡 Answer: compilations of events, reflections, recommendations, news and complaints\n",
      "\n",
      "📰 Top Relevant Articles Used:\n",
      "\n",
      "--- Article 1 ---\n",
      "Mortars Mark Opening of Iraqi Political Conference (Reuters). Reuters - Insurgents fired mortars at a meeting\\where Iraqi leaders met to pick an interim national assembly\\Sunday, killing at least two people in a grim reminder of the\\country's tortuous path toward democracy....\n",
      "\n",
      "\n",
      "--- Article 2 ---\n",
      "'Insider' Information Puts City Blogs on the Map. Locally focused group \"metro\" blogs -- compilations of events, reflections, recommendations, news and complaints -- are emerging to put a number of big cities in intimate, street-level relief....\n",
      "\n",
      "\n",
      "--- Article 3 ---\n",
      "Weak Version of Most Powerful Explosions Found (SPACE.com). SPACE.com - Gamma-ray bursts are the most powerful events in the universe, temporary outshining several galaxies and likely signaling the birth of a black hole....\n",
      "\n"
     ]
    }
   ],
   "source": [
    "# ✅ Step 7: Print Results\n",
    "\n",
    "print(f\"\\n🔎 Question: {question}\")\n",
    "print(f\"💡 Answer: {result['answer']}\")\n",
    "print(\"\\n📰 Top Relevant Articles Used:\")\n",
    "\n",
    "for i, article in enumerate(result['context'], 1):\n",
    "        print(f\"\\n--- Article {i} ---\\n{article[:300]}...\\n\")"
   ]
  },
  {
   "cell_type": "code",
   "execution_count": null,
   "id": "fe7171d4",
   "metadata": {},
   "outputs": [],
   "source": []
  }
 ],
 "metadata": {
  "kernelspec": {
   "display_name": "DL-Keras",
   "language": "python",
   "name": "dl-keras"
  },
  "language_info": {
   "codemirror_mode": {
    "name": "ipython",
    "version": 3
   },
   "file_extension": ".py",
   "mimetype": "text/x-python",
   "name": "python",
   "nbconvert_exporter": "python",
   "pygments_lexer": "ipython3",
   "version": "3.12.3"
  }
 },
 "nbformat": 4,
 "nbformat_minor": 5
}
