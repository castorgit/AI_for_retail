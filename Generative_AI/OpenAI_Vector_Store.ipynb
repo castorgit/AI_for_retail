{
 "cells": [
  {
   "cell_type": "markdown",
   "id": "354989c3",
   "metadata": {},
   "source": [
    "# Demo of use Vector Store"
   ]
  },
  {
   "cell_type": "code",
   "execution_count": 1,
   "id": "9332a89a",
   "metadata": {},
   "outputs": [
    {
     "name": "stderr",
     "output_type": "stream",
     "text": [
      "/home/jau/DL-Keras/lib/python3.12/site-packages/tqdm/auto.py:21: TqdmWarning: IProgress not found. Please update jupyter and ipywidgets. See https://ipywidgets.readthedocs.io/en/stable/user_install.html\n",
      "  from .autonotebook import tqdm as notebook_tqdm\n",
      "2025-06-24 18:23:57.144765: I tensorflow/core/util/port.cc:153] oneDNN custom operations are on. You may see slightly different numerical results due to floating-point round-off errors from different computation orders. To turn them off, set the environment variable `TF_ENABLE_ONEDNN_OPTS=0`.\n",
      "2025-06-24 18:23:57.153692: E external/local_xla/xla/stream_executor/cuda/cuda_fft.cc:467] Unable to register cuFFT factory: Attempting to register factory for plugin cuFFT when one has already been registered\n",
      "WARNING: All log messages before absl::InitializeLog() is called are written to STDERR\n",
      "E0000 00:00:1750782237.163647    2710 cuda_dnn.cc:8579] Unable to register cuDNN factory: Attempting to register factory for plugin cuDNN when one has already been registered\n",
      "E0000 00:00:1750782237.166645    2710 cuda_blas.cc:1407] Unable to register cuBLAS factory: Attempting to register factory for plugin cuBLAS when one has already been registered\n",
      "W0000 00:00:1750782237.174847    2710 computation_placer.cc:177] computation placer already registered. Please check linkage and avoid linking the same target more than once.\n",
      "W0000 00:00:1750782237.174859    2710 computation_placer.cc:177] computation placer already registered. Please check linkage and avoid linking the same target more than once.\n",
      "W0000 00:00:1750782237.174860    2710 computation_placer.cc:177] computation placer already registered. Please check linkage and avoid linking the same target more than once.\n",
      "W0000 00:00:1750782237.174861    2710 computation_placer.cc:177] computation placer already registered. Please check linkage and avoid linking the same target more than once.\n",
      "2025-06-24 18:23:57.178503: I tensorflow/core/platform/cpu_feature_guard.cc:210] This TensorFlow binary is optimized to use available CPU instructions in performance-critical operations.\n",
      "To enable the following instructions: AVX2 AVX_VNNI FMA, in other operations, rebuild TensorFlow with the appropriate compiler flags.\n"
     ]
    }
   ],
   "source": [
    "from transformers import pipeline\n",
    "from sentence_transformers import SentenceTransformer\n",
    "import torch, pandas as pd, faiss, requests, textwrap\n",
    "from io import StringIO"
   ]
  },
  {
   "cell_type": "markdown",
   "id": "96ca264c",
   "metadata": {},
   "source": [
    "# STEP 1"
   ]
  },
  {
   "cell_type": "code",
   "execution_count": 2,
   "id": "3db7ce22",
   "metadata": {},
   "outputs": [
    {
     "name": "stdout",
     "output_type": "stream",
     "text": [
      "Downloading IMDb movie metadata…\n",
      "✅ Loaded 2000 movies.\n"
     ]
    }
   ],
   "source": [
    "print(\"Downloading IMDb movie metadata…\")\n",
    "\n",
    "CSV_URL = (\n",
    "  \"https://raw.githubusercontent.com/\"\n",
    "  \"sundeepblue/movie_rating_prediction/master/movie_metadata.csv\"\n",
    ")\n",
    "\n",
    "try:\n",
    "  raw = requests.get(CSV_URL, timeout=20)\n",
    "  raw.raise_for_status()\n",
    "  df = pd.read_csv(StringIO(raw.text))\n",
    "\n",
    "# ─── Minimal cleaning ────────────────────────────────────\n",
    "\n",
    "  df[\"movie_title\"]  = df[\"movie_title\"].str.strip()\n",
    "  df[\"genres\"]    = df[\"genres\"].str.replace(\"|\", \", \")\n",
    "  df[\"plot_keywords\"] = df[\"plot_keywords\"].fillna(\"\").str.replace(\"|\", \", \")\n",
    "\n",
    "  # Unified “text” field for retrieval\n",
    "\n",
    "  df[\"text\"] = (\n",
    "    \"Title: \"    + df[\"movie_title\"] + \". \"\n",
    "    \"Director: \"   + df[\"director_name\"].fillna(\"Unknown\") + \". \"\n",
    "    \"Genres: \"    + df[\"genres\"] + \". \"\n",
    "    \"Plot keywords: \"+ df[\"plot_keywords\"] + \".\"\n",
    "  )\n",
    "  df = df.head(2_000)            # ← keep notebook snappy\n",
    "  print(f\"✅ Loaded {len(df)} movies.\")\n",
    "\n",
    "except Exception as e:\n",
    "  print(f\"❌ Download failed: {e}\")\n",
    "  df = pd.DataFrame()"
   ]
  },
  {
   "cell_type": "code",
   "execution_count": 3,
   "id": "4222b6c8",
   "metadata": {},
   "outputs": [
    {
     "name": "stdout",
     "output_type": "stream",
     "text": [
      "                                  movie_title  \\\n",
      "0                                      Avatar   \n",
      "1    Pirates of the Caribbean: At World's End   \n",
      "2                                     Spectre   \n",
      "3                       The Dark Knight Rises   \n",
      "4  Star Wars: Episode VII - The Force Awakens   \n",
      "\n",
      "                                       plot_keywords  \n",
      "0         avatar, future, marine, native, paraplegic  \n",
      "1  goddess, marriage ceremony, marriage proposal,...  \n",
      "2            bomb, espionage, sequel, spy, terrorist  \n",
      "3  deception, imprisonment, lawlessness, police o...  \n",
      "4                                                     \n"
     ]
    }
   ],
   "source": [
    "print(df[[\"movie_title\", \"plot_keywords\"]].head())"
   ]
  },
  {
   "cell_type": "markdown",
   "id": "671d9742",
   "metadata": {},
   "source": [
    "# STEP 2 "
   ]
  },
  {
   "cell_type": "code",
   "execution_count": 4,
   "id": "bc9a9824",
   "metadata": {},
   "outputs": [],
   "source": [
    "df[\"text\"] = df[\"movie_title\"].str.strip() + \": \" + df[\"plot_keywords\"].fillna(\"\")\n",
    "\n",
    "texts = df[\"text\"].tolist()"
   ]
  },
  {
   "cell_type": "markdown",
   "id": "c5e335a4",
   "metadata": {},
   "source": [
    "# STEP 3 "
   ]
  },
  {
   "cell_type": "code",
   "execution_count": 5,
   "id": "81ec8eb4",
   "metadata": {},
   "outputs": [],
   "source": [
    "import openai\n",
    "from dotenv import load_dotenv  \n",
    "load_dotenv('API_KEYS.env')  \n",
    "\n",
    "#openai.api_key = \"sk-...\"  # yNEVER DO THIS\n",
    "\n",
    "def batch_embed(texts, model=\"text-embedding-3-small\", batch_size=100):\n",
    "    embeddings = []\n",
    "    for i in range(0, len(texts), batch_size):\n",
    "        response = openai.embeddings.create(\n",
    "            input=texts[i:i+batch_size],\n",
    "            model=model\n",
    "        )\n",
    "        embeddings.extend([item.embedding for item in response.data])\n",
    "    return embeddings\n",
    "\n",
    "embeddings = batch_embed(texts)\n"
   ]
  },
  {
   "cell_type": "markdown",
   "id": "f250303f",
   "metadata": {},
   "source": [
    "# STEP 4"
   ]
  },
  {
   "cell_type": "code",
   "execution_count": 6,
   "id": "47226356",
   "metadata": {},
   "outputs": [
    {
     "name": "stdout",
     "output_type": "stream",
     "text": [
      "Vector Store ID: vs_685ad13825dc8191bb9c0bf6cfbf2015\n"
     ]
    }
   ],
   "source": [
    "# Create a new vector store\n",
    "vector_store = openai.vector_stores.create(name=\"movies-demo\")\n",
    "vector_store_id = vector_store.id\n",
    "print(\"Vector Store ID:\", vector_store_id)"
   ]
  },
  {
   "cell_type": "markdown",
   "id": "0ed20077",
   "metadata": {},
   "source": [
    "# STEP 5"
   ]
  },
  {
   "cell_type": "code",
   "execution_count": 7,
   "id": "d18f8a00",
   "metadata": {},
   "outputs": [],
   "source": [
    "import json\n",
    "\n",
    "records = []\n",
    "for idx, row in df.iterrows():\n",
    "    record = {\n",
    "        \"text\": row[\"text\"],\n",
    "        \"metadata\": {\n",
    "            \"movie_title\": row[\"movie_title\"].strip(),\n",
    "            \"index\": int(idx)\n",
    "        }\n",
    "    }\n",
    "    records.append(record)\n",
    "\n",
    "with open(\"movie_docs.json\", \"w\", encoding=\"utf-8\") as f:\n",
    "    json.dump(records, f, ensure_ascii=False)"
   ]
  },
  {
   "cell_type": "markdown",
   "id": "a800d3d0",
   "metadata": {},
   "source": [
    "# STEP 5 - UPLOAD TO VECTOR STORE"
   ]
  },
  {
   "cell_type": "code",
   "execution_count": 8,
   "id": "000ce936",
   "metadata": {},
   "outputs": [],
   "source": [
    "with open(\"movie_docs.json\", \"rb\") as f:\n",
    "    file_batch = openai.vector_stores.file_batches.upload_and_poll(\n",
    "        vector_store_id=vector_store_id,\n",
    "        files=[f]\n",
    "    )\n"
   ]
  },
  {
   "cell_type": "markdown",
   "id": "eca4889f",
   "metadata": {},
   "source": [
    "# STEP 6 – find movies by plot - ASSISTANT"
   ]
  },
  {
   "cell_type": "code",
   "execution_count": 9,
   "id": "5b88f1ce",
   "metadata": {},
   "outputs": [
    {
     "name": "stdout",
     "output_type": "stream",
     "text": [
      "\n",
      "🤖 Creating assistant...\n"
     ]
    }
   ],
   "source": [
    "# Create an assistant with the vector store\n",
    "print(\"\\n🤖 Creating assistant...\")\n",
    "assistant = openai.beta.assistants.create(\n",
    "    name=\"Movie Recommendation Assistant\",\n",
    "    instructions=\"\"\"You are a helpful movie recommendation assistant. You have access to a database of movies with their plot keywords and metadata. When users ask for movie recommendations, search through the database to find relevant movies and provide thoughtful recommendations based on their preferences.\"\"\",\n",
    "    model=\"gpt-4o-mini\",\n",
    "    tools=[{\"type\": \"file_search\"}],\n",
    "    tool_resources={\"file_search\": {\"vector_store_ids\": [vector_store_id]}}\n",
    ")"
   ]
  },
  {
   "cell_type": "markdown",
   "id": "dba91001",
   "metadata": {},
   "source": [
    "# STEP 6 – find movies by plot – GET RECOMENDATIONS FUNCTION"
   ]
  },
  {
   "cell_type": "code",
   "execution_count": 10,
   "id": "8c954cd2",
   "metadata": {},
   "outputs": [],
   "source": [
    "# Function to get movie recommendations\n",
    "def get_movie_recommendations(query):\n",
    "    \"\"\"Get movie recommendations based on user query\"\"\"\n",
    "    \n",
    "    # Create a thread\n",
    "    thread = openai.beta.threads.create()\n",
    "    \n",
    "    # Add message to thread\n",
    "    message = openai.beta.threads.messages.create(\n",
    "        thread_id=thread.id,\n",
    "        role=\"user\",\n",
    "        content=query\n",
    "    )\n",
    "    \n",
    "    # Run the assistant\n",
    "    run = openai.beta.threads.runs.create_and_poll(\n",
    "        thread_id=thread.id,\n",
    "        assistant_id=assistant.id\n",
    "    )\n",
    "    \n",
    "    # Get the response\n",
    "    if run.status == 'completed':\n",
    "        messages = openai.beta.threads.messages.list(thread_id=thread.id)\n",
    "        return messages.data[0].content[0].text.value\n",
    "    else:\n",
    "        return f\"Error: Run status is {run.status}\"\n"
   ]
  },
  {
   "cell_type": "code",
   "execution_count": null,
   "id": "bf907dfa",
   "metadata": {},
   "outputs": [],
   "source": [
    "# STEP 6 – find movies by plot – GET RECOMENDATIONS "
   ]
  },
  {
   "cell_type": "code",
   "execution_count": 11,
   "id": "a623af1b",
   "metadata": {},
   "outputs": [
    {
     "name": "stdout",
     "output_type": "stream",
     "text": [
      "\n",
      "🎬 Testing movie recommendations...\n",
      "\n",
      "📝 Query: Can you recommend some time travel adventure movies?\n",
      "🎭 Recommendations:\n"
     ]
    },
    {
     "name": "stderr",
     "output_type": "stream",
     "text": [
      "/tmp/ipykernel_2710/3088403486.py:6: DeprecationWarning: The Assistants API is deprecated in favor of the Responses API\n",
      "  thread = openai.beta.threads.create()\n",
      "/tmp/ipykernel_2710/3088403486.py:9: DeprecationWarning: The Assistants API is deprecated in favor of the Responses API\n",
      "  message = openai.beta.threads.messages.create(\n",
      "/tmp/ipykernel_2710/3088403486.py:16: DeprecationWarning: The Assistants API is deprecated in favor of the Responses API\n",
      "  run = openai.beta.threads.runs.create_and_poll(\n",
      "/tmp/ipykernel_2710/3088403486.py:23: DeprecationWarning: The Assistants API is deprecated in favor of the Responses API\n",
      "  messages = openai.beta.threads.messages.list(thread_id=thread.id)\n"
     ]
    },
    {
     "name": "stdout",
     "output_type": "stream",
     "text": [
      "Here are some great time travel adventure movies for you to consider:  1. **Back\n",
      "to the Future** - A classic adventure where Marty McFly accidentally travels\n",
      "back in time to the 1950s, disrupting his parents’ meeting. 2. **The Time\n",
      "Machine** - This adaptation of H.G. Wells' novel follows a scientist who invents\n",
      "a time machine and explores the distant future【4:1†source】. 3. **Terminator 2:\n",
      "Judgment Day** - An action-packed sequel featuring a time-traveling cyborg sent\n",
      "back to protect a future leader【4:2†source】. 4. **Looper** - A unique spin on\n",
      "time travel where hitmen called \"loopers\" eliminate targets sent from the\n",
      "future, leading to a shocking twist【4:8†source】. 5. **Midnight in Paris** - A\n",
      "charming tale of a writer who finds himself mysteriously transported to the\n",
      "1920s nightly, exploring his literary inspirations【4:10†source】. 6. **Kate &\n",
      "Leopold** - A romantic comedy in which a 19th-century Duke travels through time\n",
      "to modern New York【4:9†source】. 7. **X-Men: Days of Future Past** - A crossover\n",
      "that combines characters from different eras, addressing the consequences of\n",
      "time travel on the mutant population【4:11†source】. 8. **Harlock: Space Pirate**\n",
      "- A sci-fi adventure involving a space pirate, time travel, and undercover\n",
      "missions【4:5†source】. 9. **Austin Powers in Goldmember** - A comedic take on the\n",
      "spy genre featuring time travel elements【4:7†source】. 10. **13 Going on 30** - A\n",
      "heartfelt romantic comedy about a girl who magically wakes up as a 30-year-old\n",
      "woman【4:10†source】.  These films offer a range of adventures and tones, from\n",
      "lighthearted comedies to intense action, all revolving around the fascinating\n",
      "concept of time travel!\n",
      "--------------------------------------------------------------------------------\n",
      "\n",
      "📝 Query: I'm looking for spy thriller movies with espionage\n",
      "🎭 Recommendations:\n",
      "Here are some spy thriller movies with espionage themes that you might enjoy:\n",
      "1. **Casino Royale** - This James Bond installment features action-packed\n",
      "espionage, a gripping poker game, and high-stakes drama as Bond earns his 00\n",
      "status .  2. **True Lies** - A thrilling mix of action and comedy where a secret\n",
      "agent balances his family life with dangerous spy missions .  3. **I Spy** - A\n",
      "comedic take on espionage featuring a boxer who becomes involved in a secret spy\n",
      "mission .  4. **Duplicity** - A romantic thriller that combines love and\n",
      "corporate espionage, following two spies who are attempting to outsmart each\n",
      "other .  5. **Argo** - Based on true events, this film depicts a CIA mission to\n",
      "rescue American hostages in Iran, showcasing the tension and intricacies of\n",
      "espionage .  6. **The Sum of All Fears** - Featuring a CIA analyst who uncovers\n",
      "a nuclear threat, this film blends action with political intrigue .  7. **The\n",
      "Long Kiss Goodnight** - A woman who has amnesia discovers secrets about her past\n",
      "as a CIA assassin when her life is threatened .  8. **Spy Kids** - A family-\n",
      "friendly take on the espionage genre, where two kids must rescue their spy\n",
      "parents from danger .  These films blend thrilling plots with espionage\n",
      "elements, appealing to anyone looking for exciting spy stories!\n",
      "--------------------------------------------------------------------------------\n",
      "\n",
      "📝 Query: What are some good movies about the future or sci-fi?\n",
      "🎭 Recommendations:\n",
      "Here are some great movies that focus on the future or fall into the science\n",
      "fiction genre:  1. **Blade Runner 2049** - A visually stunning sequel to the\n",
      "original Blade Runner, exploring themes of identity and humanity in a future\n",
      "shaped by advanced technology.  2. **Interstellar** - This film dives into space\n",
      "travel, black holes, and time dilation while centered around a father-daughter\n",
      "relationship.  3. **The Martian** - A gripping survival story about an astronaut\n",
      "stranded on Mars, showcasing human ingenuity and the power of perseverance.  4.\n",
      "**Inception** - A film that merges dream manipulation with corporate espionage,\n",
      "offering a complex narrative and stunning visuals.  5. **Minority Report** - Set\n",
      "in a future where crimes are predicted before they happen, this film examines\n",
      "free will versus determinism.  6. **Elysium** - This film critiques social\n",
      "inequality by depicting a dystopian future where the rich live in luxury while\n",
      "the poor suffer on Earth.  7. **Dune** - A recent adaptation of Frank Herbert's\n",
      "classic novel, it showcases political intrigue, ecological themes, and epic\n",
      "battles in a desert world.  8. **Snowpiercer** - Set on a train carrying the\n",
      "last remnants of humanity in a post-apocalyptic world, this film explores class\n",
      "struggle and society.  9. **Ex Machina** - A thought-provoking exploration of\n",
      "artificial intelligence and what it means to be human, framed in a psychological\n",
      "thriller.  10. **Star Wars: Episode IV - A New Hope** - The classic space opera\n",
      "that started it all, blending adventure and fantasy in a galaxy far, far away.\n",
      "11. **Arrival** - A unique take on first contact with aliens, focusing on\n",
      "language and communication, as well as time perception.  12. **Chappie** - A\n",
      "film that explores artificial intelligence through the eyes of a sentient robot\n",
      "navigating a dangerous world    .  These films span a range of tones and themes,\n",
      "from action-packed adventures to thought-provoking narratives. Enjoy your\n",
      "viewing!\n",
      "--------------------------------------------------------------------------------\n",
      "\n",
      "📝 Query: Can you suggest some romantic comedies?\n",
      "🎭 Recommendations:\n",
      "Error: Run status is failed\n",
      "--------------------------------------------------------------------------------\n",
      "\n",
      "📝 Query: I want to watch movies about deception and crime\n",
      "🎭 Recommendations:\n",
      "Error: Run status is failed\n",
      "--------------------------------------------------------------------------------\n",
      "\n",
      "🎉 Demo complete! You can now use get_movie_recommendations() to get movie suggestions.\n",
      "💡 To clean up resources, run: cleanup()\n"
     ]
    }
   ],
   "source": [
    "# Test the recommendation system\n",
    "print(\"\\n🎬 Testing movie recommendations...\")\n",
    "\n",
    "queries = [\n",
    "    \"Can you recommend some time travel adventure movies?\",\n",
    "    \"I'm looking for spy thriller movies with espionage\",\n",
    "    \"What are some good movies about the future or sci-fi?\"\n",
    "]\n",
    "\n",
    "for query in queries:\n",
    "    print(f\"\\n📝 Query: {query}\")\n",
    "    print(\"🎭 Recommendations:\")\n",
    "    try:\n",
    "        response = get_movie_recommendations(query)\n",
    "        print(textwrap.fill(response, width=80))\n",
    "    except Exception as e:\n",
    "        print(f\"❌ Error: {e}\")\n",
    "    print(\"-\" * 80)\n",
    "\n",
    "# Cleanup function (optional)\n",
    "def cleanup():\n",
    "    \"\"\"Clean up resources\"\"\"\n",
    "    try:\n",
    "        # Delete the assistant\n",
    "        openai.assistants.delete(assistant.id)\n",
    "        print(f\"✅ Deleted assistant {assistant.id}\")\n",
    "        \n",
    "        # Delete the vector store\n",
    "        openai.vector_stores.delete(vector_store_id)\n",
    "        print(f\"✅ Deleted vector store {vector_store_id}\")\n",
    "        \n",
    "        # Remove local file\n",
    "        import os\n",
    "        if os.path.exists(\"movie_docs.json\"):\n",
    "            os.remove(\"movie_docs.json\")\n",
    "            print(\"✅ Deleted local JSON file\")\n",
    "            \n",
    "    except Exception as e:\n",
    "        print(f\"❌ Cleanup error: {e}\")\n",
    "\n",
    "print(\"\\n🎉 Demo complete! You can now use get_movie_recommendations() to get movie suggestions.\")\n",
    "print(\"💡 To clean up resources, run: cleanup()\")"
   ]
  },
  {
   "cell_type": "markdown",
   "id": "cb44b193",
   "metadata": {},
   "source": [
    "# STEP 6 - MINIMAL EXAMPLE "
   ]
  },
  {
   "cell_type": "code",
   "execution_count": 14,
   "id": "fb2ecb2e",
   "metadata": {},
   "outputs": [
    {
     "name": "stderr",
     "output_type": "stream",
     "text": [
      "/tmp/ipykernel_2710/1715496137.py:2: DeprecationWarning: The Assistants API is deprecated in favor of the Responses API\n",
      "  thread = openai.beta.threads.create()\n",
      "/tmp/ipykernel_2710/1715496137.py:5: DeprecationWarning: The Assistants API is deprecated in favor of the Responses API\n",
      "  message = openai.beta.threads.messages.create(\n",
      "/tmp/ipykernel_2710/1715496137.py:12: DeprecationWarning: The Assistants API is deprecated in favor of the Responses API\n",
      "  run = openai.beta.threads.runs.create_and_poll(\n",
      "/tmp/ipykernel_2710/1715496137.py:16: DeprecationWarning: The Assistants API is deprecated in favor of the Responses API\n",
      "  messages = openai.beta.threads.messages.list(thread_id=thread.id)\n"
     ]
    },
    {
     "data": {
      "text/plain": [
       "\"Here are some adventure movies that you might enjoy:\\n\\n1. **The River Wild** - This film features a thrilling rafting journey where a family faces danger from a criminal on the run .\\n\\n2. **Jurassic Park** - A classic adventure that takes viewers to a theme park filled with dinosaurs, where survival becomes the ultimate goal .\\n\\n3. **Indiana Jones and the Temple of Doom** - The iconic archaeologist embarks on a dangerous adventure in an exotic locale, facing various challenges and foes .\\n\\n4. **Lara Croft: Tomb Raider** - This film follows the adventures of a tomb raider who must uncover ancient secrets and battle adversaries in her quest .\\n\\n5. **Journey to the Center of the Earth** - A scientific expedition leads to unforeseen perils in a fantastical underground world, perfect for adventure seekers .\\n\\n6. **The Chronicles of Riddick** - A science fiction adventure that captures a unique blend of action and exploration in a futuristic universe .\\n\\n7. **Life of Pi** - This visually stunning film combines adventure and philosophical reflection as a young man survives on a lifeboat with a Bengal tiger .\\n\\n8. **The Ghost and the Darkness** - Based on true events, this film chronicles the attempts to stop man-eating lions that threaten a railway construction in Africa .\\n\\n9. **Hook** - A fresh take on the Peter Pan story, where a grown-up Peter must return to Neverland to save his children from Captain Hook .\\n\\n10. **Percy Jackson & the Olympians: The Lightning Thief** - A modern-day adventure with mythical roots, where a teenager discovers he's a demigod and must navigate challenges from ancient mythology .\\n\\nThese films provide a blend of adventure, excitement, and exploration, appealing to various tastes in the adventure genre.\""
      ]
     },
     "execution_count": 14,
     "metadata": {},
     "output_type": "execute_result"
    }
   ],
   "source": [
    "query = \"adventure movies\"\n",
    "thread = openai.beta.threads.create()\n",
    "    \n",
    "# Add message to thread\n",
    "message = openai.beta.threads.messages.create(\n",
    "        thread_id=thread.id,\n",
    "        role=\"user\",\n",
    "        content=query\n",
    "    )\n",
    "    \n",
    "# Run the assistant\n",
    "run = openai.beta.threads.runs.create_and_poll(\n",
    "        thread_id=thread.id,\n",
    "        assistant_id=assistant.id\n",
    "    )\n",
    "messages = openai.beta.threads.messages.list(thread_id=thread.id)\n",
    "messages.data[0].content[0].text.value"
   ]
  },
  {
   "cell_type": "code",
   "execution_count": null,
   "id": "ee053a9f",
   "metadata": {},
   "outputs": [],
   "source": []
  }
 ],
 "metadata": {
  "kernelspec": {
   "display_name": "DL-Keras",
   "language": "python",
   "name": "dl-keras"
  },
  "language_info": {
   "codemirror_mode": {
    "name": "ipython",
    "version": 3
   },
   "file_extension": ".py",
   "mimetype": "text/x-python",
   "name": "python",
   "nbconvert_exporter": "python",
   "pygments_lexer": "ipython3",
   "version": "3.12.3"
  }
 },
 "nbformat": 4,
 "nbformat_minor": 5
}
