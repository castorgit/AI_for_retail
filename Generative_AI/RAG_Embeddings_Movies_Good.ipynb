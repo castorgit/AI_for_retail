{
 "cells": [
  {
   "cell_type": "markdown",
   "id": "3411ec7e",
   "metadata": {},
   "source": [
    "## RAG Embeddings Movies Good"
   ]
  },
  {
   "cell_type": "code",
   "execution_count": 1,
   "id": "51ebf4e2",
   "metadata": {},
   "outputs": [
    {
     "name": "stdout",
     "output_type": "stream",
     "text": [
      "\u001b[1;31merror\u001b[0m: \u001b[1mexternally-managed-environment\u001b[0m\r\n",
      "\r\n",
      "\u001b[31m×\u001b[0m This environment is externally managed\r\n",
      "\u001b[31m╰─>\u001b[0m To install Python packages system-wide, try apt install\r\n",
      "\u001b[31m   \u001b[0m python3-xyz, where xyz is the package you are trying to\r\n",
      "\u001b[31m   \u001b[0m install.\r\n",
      "\u001b[31m   \u001b[0m \r\n",
      "\u001b[31m   \u001b[0m If you wish to install a non-Debian-packaged Python package,\r\n",
      "\u001b[31m   \u001b[0m create a virtual environment using python3 -m venv path/to/venv.\r\n",
      "\u001b[31m   \u001b[0m Then use path/to/venv/bin/python and path/to/venv/bin/pip. Make\r\n",
      "\u001b[31m   \u001b[0m sure you have python3-full installed.\r\n",
      "\u001b[31m   \u001b[0m \r\n",
      "\u001b[31m   \u001b[0m If you wish to install a non-Debian packaged Python application,\r\n",
      "\u001b[31m   \u001b[0m it may be easiest to use pipx install xyz, which will manage a\r\n",
      "\u001b[31m   \u001b[0m virtual environment for you. Make sure you have pipx installed.\r\n",
      "\u001b[31m   \u001b[0m \r\n",
      "\u001b[31m   \u001b[0m See /usr/share/doc/python3.12/README.venv for more information.\r\n",
      "\r\n",
      "\u001b[1;35mnote\u001b[0m: If you believe this is a mistake, please contact your Python installation or OS distribution provider. You can override this, at the risk of breaking your Python installation or OS, by passing --break-system-packages.\r\n",
      "\u001b[1;36mhint\u001b[0m: See PEP 668 for the detailed specification.\r\n"
     ]
    }
   ],
   "source": [
    "#!pip install -q transformers sentence-transformers faiss-cpu "
   ]
  },
  {
   "cell_type": "code",
   "execution_count": 3,
   "id": "0527a86a",
   "metadata": {},
   "outputs": [],
   "source": [
    "from transformers import pipeline\n",
    "from sentence_transformers import SentenceTransformer\n",
    "import torch, pandas as pd, faiss, requests, textwrap\n",
    "from io import StringIO"
   ]
  },
  {
   "cell_type": "code",
   "execution_count": 9,
   "id": "68e2ae0d",
   "metadata": {},
   "outputs": [
    {
     "name": "stdout",
     "output_type": "stream",
     "text": [
      "Downloading IMDb movie metadata…\n",
      "✅ Loaded 2000 movies.\n"
     ]
    }
   ],
   "source": [
    "print(\"Downloading IMDb movie metadata…\")\n",
    "\n",
    "CSV_URL = (\n",
    "  \"https://raw.githubusercontent.com/\"\n",
    "  \"sundeepblue/movie_rating_prediction/master/movie_metadata.csv\"\n",
    ")\n",
    "\n",
    "try:\n",
    "  raw = requests.get(CSV_URL, timeout=20)\n",
    "  raw.raise_for_status()\n",
    "  df = pd.read_csv(StringIO(raw.text))\n",
    "\n",
    "# ─── Minimal cleaning ────────────────────────────────────\n",
    "\n",
    "  df[\"movie_title\"]  = df[\"movie_title\"].str.strip()\n",
    "  df[\"genres\"]    = df[\"genres\"].str.replace(\"|\", \", \")\n",
    "  df[\"plot_keywords\"] = df[\"plot_keywords\"].fillna(\"\").str.replace(\"|\", \", \")\n",
    "\n",
    "  # Unified “text” field for retrieval\n",
    "\n",
    "  df[\"text\"] = (\n",
    "    \"Title: \"    + df[\"movie_title\"] + \". \"\n",
    "    \"Director: \"   + df[\"director_name\"].fillna(\"Unknown\") + \". \"\n",
    "    \"Genres: \"    + df[\"genres\"] + \". \"\n",
    "    \"Plot keywords: \"+ df[\"plot_keywords\"] + \".\"\n",
    "  )\n",
    "  df = df.head(2_000)            # ← keep notebook snappy\n",
    "  print(f\"✅ Loaded {len(df)} movies.\")\n",
    "\n",
    "except Exception as e:\n",
    "  print(f\"❌ Download failed: {e}\")\n",
    "  df = pd.DataFrame()"
   ]
  },
  {
   "cell_type": "code",
   "execution_count": 10,
   "id": "63089c38",
   "metadata": {},
   "outputs": [
    {
     "name": "stdout",
     "output_type": "stream",
     "text": [
      "🔄 Creating embeddings…\n"
     ]
    },
    {
     "name": "stderr",
     "output_type": "stream",
     "text": [
      "Batches: 100%|██████████████████████████████████████████████████████████████████████████| 63/63 [00:02<00:00, 23.93it/s]"
     ]
    },
    {
     "name": "stdout",
     "output_type": "stream",
     "text": [
      "✅ FAISS index ready with 2000 vectors.\n"
     ]
    },
    {
     "name": "stderr",
     "output_type": "stream",
     "text": [
      "\n"
     ]
    }
   ],
   "source": [
    "# ─────────────────────────────────────────────────────────────\n",
    "# ✅ Cell 4 – Create embeddings & build FAISS inde\n",
    "# ─────────────────────────────────────────────────────────────\n",
    "\n",
    "if df.empty:\n",
    "  raise RuntimeError(\"Dataset not loaded; aborting.\")\n",
    "\n",
    "\n",
    "print(\"🔄 Creating embeddings…\")\n",
    "emb_model = SentenceTransformer(\"all-MiniLM-L6-v2\")\n",
    "\n",
    "embeddings = emb_model.encode(\n",
    "\n",
    "  df[\"text\"].tolist(),\n",
    "  batch_size=32,\n",
    "  show_progress_bar=True\n",
    ").astype(\"float32\")\n",
    "\n",
    "index = faiss.IndexFlatL2(embeddings.shape[1])\n",
    "index.add(embeddings)\n",
    "\n",
    "print(f\"✅ FAISS index ready with {index.ntotal} vectors.\")"
   ]
  },
  {
   "cell_type": "code",
   "execution_count": 11,
   "id": "efe52b78",
   "metadata": {},
   "outputs": [
    {
     "name": "stdout",
     "output_type": "stream",
     "text": [
      "🧠 Loading QA model…\n"
     ]
    },
    {
     "name": "stderr",
     "output_type": "stream",
     "text": [
      "Device set to use cuda:0\n"
     ]
    }
   ],
   "source": [
    "# ─────────────────────────────────────────────────────────────\n",
    "# ✅ Cell 5 – Load extractive QA model\n",
    "# ─────────────────────────────────────────────────────────────\n",
    "\n",
    "print(\"🧠 Loading QA model…\")\n",
    "\n",
    "qa = pipeline(\n",
    "  \"question-answering\",\n",
    "\n",
    "  model=\"distilbert-base-cased-distilled-squad\",\n",
    "  device=0 if torch.cuda.is_available() else -1,\n",
    ")"
   ]
  },
  {
   "cell_type": "code",
   "execution_count": 12,
   "id": "e5643f2f",
   "metadata": {},
   "outputs": [],
   "source": [
    "# ─────────────────────────────────────────────────────────────\n",
    "# ✅ Cell 6 – Helper that returns answer + IDs + distances\n",
    "# ─────────────────────────────────────────────────────────────\n",
    "\n",
    "def answer_movie_question(question, k=5, max_ctx_chars=4_500, verbose=True):\n",
    "  \"\"\"\n",
    "  Parameters\n",
    "  ----------\n",
    "  question : str\n",
    "  k    : int  – how many nearest docs to retrieve\n",
    "  max_ctx_chars : int – truncation length for QA context\n",
    "  verbose : bool – print pretty output if True \n",
    "  Returns\n",
    "  -------\n",
    "  answer : str\n",
    "  ctx   : List[str]  – raw text of the k nearest docs\n",
    "  ids   : List[int]  – dataframe row-indices\n",
    "  dists  : List[float] – L2 distances from query vector\n",
    "  \"\"\"\n",
    "  # Embed the question\n",
    "\n",
    "  q_emb = emb_model.encode([question])[0].astype(\"float32\").reshape(1, -1)\n",
    "\n",
    "  # Search FAISS\n",
    "\n",
    "  dists, ids = index.search(q_emb, k)    # ids.shape == (1, k)\n",
    "\n",
    "  # Build QA context\n",
    "\n",
    "  ctx = [df[\"text\"][i] for i in ids[0]]\n",
    "  context = \" \".join(ctx)[:max_ctx_chars]\n",
    "\n",
    "  # Run QA\n",
    "\n",
    "  try:\n",
    "    answer = qa(question=question, context=context)[\"answer\"]\n",
    "\n",
    "  except Exception as e:\n",
    "    answer = f\"Error: {e}\"\n",
    "\n",
    "  # Pretty print (optional)\n",
    "\n",
    "  if verbose:\n",
    "\n",
    "    print(\"\\n\" + \"🔎 Question:\".ljust(11), question)\n",
    "    print(\"💡 Answer: \".ljust(11), answer, \"\\n\")\n",
    "    print(\"📊 Nearest neighbours (rank | row-ID | distance):\")\n",
    "    for r, (i, d) in enumerate(zip(ids[0], dists[0]), 1):\n",
    "      print(f\" {r:>2} | {i:>5} | {d:.4f}\")\n",
    "    print(\"\\n🎞️ Snippets of each context doc:\")\n",
    "    for r, (txt, i, d) in enumerate(zip(ctx, ids[0], dists[0]), 1):\n",
    "      snip = textwrap.shorten(txt, width=200, placeholder=\"…\")\n",
    "      print(f\"\\n--- Doc {r} (row {i} | dist {d:.4f}) ---\\n{snip}\")\n",
    "\n",
    "  return answer, ctx, ids[0].tolist(), dists[0].tolist()"
   ]
  },
  {
   "cell_type": "code",
   "execution_count": 13,
   "id": "dab290ee",
   "metadata": {},
   "outputs": [
    {
     "name": "stdout",
     "output_type": "stream",
     "text": [
      "\n",
      "🔎 Question: Who directed Titanic and what genres does it belong to?\n",
      "💡 Answer:   Jerry Jameson \n",
      "\n",
      "📊 Nearest neighbours (rank | row-ID | distance):\n",
      "  1 |    26 | 0.4755\n",
      "  2 |  1308 | 0.7882\n",
      "  3 |   606 | 0.9094\n",
      "  4 |    28 | 0.9206\n",
      "  5 |  1556 | 0.9220\n",
      "\n",
      "🎞️ Snippets of each context doc:\n",
      "\n",
      "--- Doc 1 (row 26 | dist 0.4755) ---\n",
      "Title: Titanic. Director: James Cameron. Genres: Drama, Romance. Plot keywords: artist, love, ship, titanic, wet.\n",
      "\n",
      "--- Doc 2 (row 1308 | dist 0.7882) ---\n",
      "Title: Raise the Titanic. Director: Jerry Jameson. Genres: Action, Adventure, Drama, Thriller. Plot keywords: military, mineral, ocean, ship, titanic.\n",
      "\n",
      "--- Doc 3 (row 606 | dist 0.9094) ---\n",
      "Title: The Abyss. Director: James Cameron. Genres: Adventure, Drama, Sci-Fi, Thriller. Plot keywords: alien, estranged couple, ocean, submarine, underwater.\n",
      "\n",
      "--- Doc 4 (row 28 | dist 0.9206) ---\n",
      "Title: Battleship. Director: Peter Berg. Genres: Action, Adventure, Sci-Fi, Thriller. Plot keywords: box office flop, hawaii, naval, oahu hawaii, ship.\n",
      "\n",
      "--- Doc 5 (row 1556 | dist 0.9220) ---\n",
      "Title: 1941. Director: Steven Spielberg. Genres: Action, Comedy, War. Plot keywords: california, captain, cult film, pearl harbor, submarine.\n"
     ]
    }
   ],
   "source": [
    "# ─────────────────────────────────────────────────────────────\n",
    "# ✅ Cell 7 – Example query\n",
    "# ─────────────────────────────────────────────────────────────\n",
    "\n",
    "_ = answer_movie_question(\n",
    "  \"Who directed Titanic and what genres does it belong to?\"\n",
    ")"
   ]
  },
  {
   "cell_type": "code",
   "execution_count": null,
   "id": "2dc25cae",
   "metadata": {},
   "outputs": [],
   "source": [
    "# ─────────────────────────────────────────────────────────────\n",
    "# ✅ (Optional) Cell 8 – Interactive loop\n",
    "# ─────────────────────────────────────────────────────────────\n",
    "\"\"\"\n",
    "# Uncomment to chat in-notebook\n",
    "while True:\n",
    "  q = input(\"\\n🎬 Ask about a movie (or type 'exit'): \")\n",
    "  if q.lower() in {\"exit\", \"quit\"}:\n",
    "    break\n",
    "  answer_movie_question(q)\n",
    "\n",
    "\"\"\""
   ]
  }
 ],
 "metadata": {
  "kernelspec": {
   "display_name": "DL-Keras",
   "language": "python",
   "name": "dl-keras"
  },
  "language_info": {
   "codemirror_mode": {
    "name": "ipython",
    "version": 3
   },
   "file_extension": ".py",
   "mimetype": "text/x-python",
   "name": "python",
   "nbconvert_exporter": "python",
   "pygments_lexer": "ipython3",
   "version": "3.12.3"
  }
 },
 "nbformat": 4,
 "nbformat_minor": 5
}
