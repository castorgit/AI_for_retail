{
 "cells": [
  {
   "cell_type": "code",
   "execution_count": 1,
   "id": "293a9637-5f2a-4fea-8bd1-4e4b404aff4c",
   "metadata": {
    "papermill": {
     "duration": 0.031568,
     "end_time": "2022-12-06T22:32:24.470851",
     "exception": false,
     "start_time": "2022-12-06T22:32:24.439283",
     "status": "completed"
    },
    "tags": []
   },
   "outputs": [],
   "source": [
    "# Clustering methods "
   ]
  },
  {
   "cell_type": "markdown",
   "id": "a193a157",
   "metadata": {
    "papermill": {
     "duration": 0.028687,
     "end_time": "2022-12-06T22:32:24.647437",
     "exception": false,
     "start_time": "2022-12-06T22:32:24.618750",
     "status": "completed"
    },
    "tags": []
   },
   "source": [
    "Clustering is one of the most frequently used forms of unsupervised learning. It automatically discover natural grouping in data.\n",
    "\n",
    "Clustering is especially useful for exploring data you know nothing about. You might find connections you never would have thought of. Clustering can also be useful as a type of feature engineering, where existing and new examples can be mapped and labeled as belonging to one of the identified clusters in the data.\n",
    "\n",
    "Some typical real world applications of clustering include customer segmentation in marketing.\n"
   ]
  },
  {
   "cell_type": "code",
   "execution_count": 2,
   "id": "150f30c1",
   "metadata": {
    "papermill": {
     "duration": 0.878284,
     "end_time": "2022-12-06T22:32:25.846362",
     "exception": false,
     "start_time": "2022-12-06T22:32:24.968078",
     "status": "completed"
    },
    "tags": []
   },
   "outputs": [],
   "source": [
    "import numpy as np\n",
    "import pandas as pd\n",
    "import seaborn as sns\n",
    "from matplotlib import pyplot as plt\n",
    "\n",
    "from collections import Counter\n",
    "\n",
    "%matplotlib inline"
   ]
  },
  {
   "cell_type": "code",
   "execution_count": 3,
   "id": "b899a923",
   "metadata": {
    "papermill": {
     "duration": 1.295415,
     "end_time": "2022-12-06T22:32:27.226551",
     "exception": false,
     "start_time": "2022-12-06T22:32:25.931136",
     "status": "completed"
    },
    "tags": []
   },
   "outputs": [],
   "source": [
    "df = pd.read_csv(\"./data/OnlineRetail.csv\", encoding= 'unicode_escape')"
   ]
  },
  {
   "cell_type": "code",
   "execution_count": 4,
   "id": "7a5561a8-4f10-4c6b-9ae7-a43f458a6557",
   "metadata": {
    "papermill": {
     "duration": 0.033793,
     "end_time": "2022-12-06T22:32:29.214596",
     "exception": false,
     "start_time": "2022-12-06T22:32:29.180803",
     "status": "completed"
    },
    "tags": []
   },
   "outputs": [],
   "source": [
    "# Data preparartion before clustering"
   ]
  },
  {
   "cell_type": "code",
   "execution_count": 5,
   "id": "f55dd2c3",
   "metadata": {
    "papermill": {
     "duration": 0.370066,
     "end_time": "2022-12-06T22:32:29.618541",
     "exception": false,
     "start_time": "2022-12-06T22:32:29.248475",
     "status": "completed"
    },
    "tags": []
   },
   "outputs": [
    {
     "data": {
      "text/html": [
       "<div>\n",
       "<style scoped>\n",
       "    .dataframe tbody tr th:only-of-type {\n",
       "        vertical-align: middle;\n",
       "    }\n",
       "\n",
       "    .dataframe tbody tr th {\n",
       "        vertical-align: top;\n",
       "    }\n",
       "\n",
       "    .dataframe thead th {\n",
       "        text-align: right;\n",
       "    }\n",
       "</style>\n",
       "<table border=\"1\" class=\"dataframe\">\n",
       "  <thead>\n",
       "    <tr style=\"text-align: right;\">\n",
       "      <th></th>\n",
       "      <th>InvoiceNo</th>\n",
       "      <th>StockCode</th>\n",
       "      <th>Description</th>\n",
       "      <th>Quantity</th>\n",
       "      <th>InvoiceDate</th>\n",
       "      <th>UnitPrice</th>\n",
       "      <th>CustomerID</th>\n",
       "      <th>Country</th>\n",
       "    </tr>\n",
       "  </thead>\n",
       "  <tbody>\n",
       "    <tr>\n",
       "      <th>count</th>\n",
       "      <td>541909</td>\n",
       "      <td>541909</td>\n",
       "      <td>540455</td>\n",
       "      <td>541909.000000</td>\n",
       "      <td>541909</td>\n",
       "      <td>541909.000000</td>\n",
       "      <td>406829.000000</td>\n",
       "      <td>541909</td>\n",
       "    </tr>\n",
       "    <tr>\n",
       "      <th>unique</th>\n",
       "      <td>25900</td>\n",
       "      <td>4070</td>\n",
       "      <td>4223</td>\n",
       "      <td>NaN</td>\n",
       "      <td>23260</td>\n",
       "      <td>NaN</td>\n",
       "      <td>NaN</td>\n",
       "      <td>38</td>\n",
       "    </tr>\n",
       "    <tr>\n",
       "      <th>top</th>\n",
       "      <td>573585</td>\n",
       "      <td>85123A</td>\n",
       "      <td>WHITE HANGING HEART T-LIGHT HOLDER</td>\n",
       "      <td>NaN</td>\n",
       "      <td>10/31/2011 14:41</td>\n",
       "      <td>NaN</td>\n",
       "      <td>NaN</td>\n",
       "      <td>United Kingdom</td>\n",
       "    </tr>\n",
       "    <tr>\n",
       "      <th>freq</th>\n",
       "      <td>1114</td>\n",
       "      <td>2313</td>\n",
       "      <td>2369</td>\n",
       "      <td>NaN</td>\n",
       "      <td>1114</td>\n",
       "      <td>NaN</td>\n",
       "      <td>NaN</td>\n",
       "      <td>495478</td>\n",
       "    </tr>\n",
       "    <tr>\n",
       "      <th>mean</th>\n",
       "      <td>NaN</td>\n",
       "      <td>NaN</td>\n",
       "      <td>NaN</td>\n",
       "      <td>9.552250</td>\n",
       "      <td>NaN</td>\n",
       "      <td>4.611114</td>\n",
       "      <td>15287.690570</td>\n",
       "      <td>NaN</td>\n",
       "    </tr>\n",
       "    <tr>\n",
       "      <th>std</th>\n",
       "      <td>NaN</td>\n",
       "      <td>NaN</td>\n",
       "      <td>NaN</td>\n",
       "      <td>218.081158</td>\n",
       "      <td>NaN</td>\n",
       "      <td>96.759853</td>\n",
       "      <td>1713.600303</td>\n",
       "      <td>NaN</td>\n",
       "    </tr>\n",
       "    <tr>\n",
       "      <th>min</th>\n",
       "      <td>NaN</td>\n",
       "      <td>NaN</td>\n",
       "      <td>NaN</td>\n",
       "      <td>-80995.000000</td>\n",
       "      <td>NaN</td>\n",
       "      <td>-11062.060000</td>\n",
       "      <td>12346.000000</td>\n",
       "      <td>NaN</td>\n",
       "    </tr>\n",
       "    <tr>\n",
       "      <th>25%</th>\n",
       "      <td>NaN</td>\n",
       "      <td>NaN</td>\n",
       "      <td>NaN</td>\n",
       "      <td>1.000000</td>\n",
       "      <td>NaN</td>\n",
       "      <td>1.250000</td>\n",
       "      <td>13953.000000</td>\n",
       "      <td>NaN</td>\n",
       "    </tr>\n",
       "    <tr>\n",
       "      <th>50%</th>\n",
       "      <td>NaN</td>\n",
       "      <td>NaN</td>\n",
       "      <td>NaN</td>\n",
       "      <td>3.000000</td>\n",
       "      <td>NaN</td>\n",
       "      <td>2.080000</td>\n",
       "      <td>15152.000000</td>\n",
       "      <td>NaN</td>\n",
       "    </tr>\n",
       "    <tr>\n",
       "      <th>75%</th>\n",
       "      <td>NaN</td>\n",
       "      <td>NaN</td>\n",
       "      <td>NaN</td>\n",
       "      <td>10.000000</td>\n",
       "      <td>NaN</td>\n",
       "      <td>4.130000</td>\n",
       "      <td>16791.000000</td>\n",
       "      <td>NaN</td>\n",
       "    </tr>\n",
       "    <tr>\n",
       "      <th>max</th>\n",
       "      <td>NaN</td>\n",
       "      <td>NaN</td>\n",
       "      <td>NaN</td>\n",
       "      <td>80995.000000</td>\n",
       "      <td>NaN</td>\n",
       "      <td>38970.000000</td>\n",
       "      <td>18287.000000</td>\n",
       "      <td>NaN</td>\n",
       "    </tr>\n",
       "  </tbody>\n",
       "</table>\n",
       "</div>"
      ],
      "text/plain": [
       "       InvoiceNo StockCode                         Description       Quantity  \\\n",
       "count     541909    541909                              540455  541909.000000   \n",
       "unique     25900      4070                                4223            NaN   \n",
       "top       573585    85123A  WHITE HANGING HEART T-LIGHT HOLDER            NaN   \n",
       "freq        1114      2313                                2369            NaN   \n",
       "mean         NaN       NaN                                 NaN       9.552250   \n",
       "std          NaN       NaN                                 NaN     218.081158   \n",
       "min          NaN       NaN                                 NaN  -80995.000000   \n",
       "25%          NaN       NaN                                 NaN       1.000000   \n",
       "50%          NaN       NaN                                 NaN       3.000000   \n",
       "75%          NaN       NaN                                 NaN      10.000000   \n",
       "max          NaN       NaN                                 NaN   80995.000000   \n",
       "\n",
       "             InvoiceDate      UnitPrice     CustomerID         Country  \n",
       "count             541909  541909.000000  406829.000000          541909  \n",
       "unique             23260            NaN            NaN              38  \n",
       "top     10/31/2011 14:41            NaN            NaN  United Kingdom  \n",
       "freq                1114            NaN            NaN          495478  \n",
       "mean                 NaN       4.611114   15287.690570             NaN  \n",
       "std                  NaN      96.759853    1713.600303             NaN  \n",
       "min                  NaN  -11062.060000   12346.000000             NaN  \n",
       "25%                  NaN       1.250000   13953.000000             NaN  \n",
       "50%                  NaN       2.080000   15152.000000             NaN  \n",
       "75%                  NaN       4.130000   16791.000000             NaN  \n",
       "max                  NaN   38970.000000   18287.000000             NaN  "
      ]
     },
     "execution_count": 5,
     "metadata": {},
     "output_type": "execute_result"
    }
   ],
   "source": [
    "df.describe(include='all')"
   ]
  },
  {
   "cell_type": "code",
   "execution_count": 6,
   "id": "fdf62f5c",
   "metadata": {
    "papermill": {
     "duration": 0.067662,
     "end_time": "2022-12-06T22:32:29.722645",
     "exception": false,
     "start_time": "2022-12-06T22:32:29.654983",
     "status": "completed"
    },
    "tags": []
   },
   "outputs": [
    {
     "name": "stdout",
     "output_type": "stream",
     "text": [
      "-80995\n",
      "-11062.06\n"
     ]
    }
   ],
   "source": [
    "# dropping columns\n",
    "df.drop(['StockCode', 'InvoiceDate','Description','Country'],axis = 1, inplace =True)\n",
    "print(df[\"Quantity\"].min())\n",
    "print(df[\"UnitPrice\"].min())"
   ]
  },
  {
   "cell_type": "markdown",
   "id": "1efe18b0",
   "metadata": {
    "papermill": {
     "duration": 0.03781,
     "end_time": "2022-12-06T22:32:29.893938",
     "exception": false,
     "start_time": "2022-12-06T22:32:29.856128",
     "status": "completed"
    },
    "tags": []
   },
   "source": [
    "Negative values probably mean that there were returns. This is important factor for e-commerce, but for this study let's keep only transactions without return (our goal is to introduce and compare different clustering methods)."
   ]
  },
  {
   "cell_type": "code",
   "execution_count": 7,
   "id": "2b261d38",
   "metadata": {
    "papermill": {
     "duration": 0.09764,
     "end_time": "2022-12-06T22:32:30.028192",
     "exception": false,
     "start_time": "2022-12-06T22:32:29.930552",
     "status": "completed"
    },
    "tags": []
   },
   "outputs": [],
   "source": [
    "# Negatives are returns. We keep only positives\n",
    "df1 = df.loc[df[\"Quantity\"] >0 ]\n",
    "df1 = df1.loc[df[\"UnitPrice\"] >0 ]\n",
    "# creating a new column of Total amount\n",
    "df1[\"Total\"]=df1[\"Quantity\"]*df1[\"UnitPrice\"]\n",
    "# dropping 'Quantity' and 'UnitPrice'\n",
    "df1.drop(['Quantity', 'UnitPrice'],axis = 1, inplace =True)\n",
    "# Checking data for the missing values\n",
    "df1.isnull().sum()\n",
    "# Dropping the missing value in customerId .\n",
    "df.dropna(axis = 0, inplace=True)"
   ]
  },
  {
   "cell_type": "code",
   "execution_count": 8,
   "id": "544ad199",
   "metadata": {
    "papermill": {
     "duration": 0.098533,
     "end_time": "2022-12-06T22:32:30.705547",
     "exception": false,
     "start_time": "2022-12-06T22:32:30.607014",
     "status": "completed"
    },
    "tags": []
   },
   "outputs": [
    {
     "data": {
      "text/html": [
       "<div>\n",
       "<style scoped>\n",
       "    .dataframe tbody tr th:only-of-type {\n",
       "        vertical-align: middle;\n",
       "    }\n",
       "\n",
       "    .dataframe tbody tr th {\n",
       "        vertical-align: top;\n",
       "    }\n",
       "\n",
       "    .dataframe thead th {\n",
       "        text-align: right;\n",
       "    }\n",
       "</style>\n",
       "<table border=\"1\" class=\"dataframe\">\n",
       "  <thead>\n",
       "    <tr style=\"text-align: right;\">\n",
       "      <th></th>\n",
       "      <th>CustomerID</th>\n",
       "      <th>Amount</th>\n",
       "      <th>Frequency</th>\n",
       "    </tr>\n",
       "  </thead>\n",
       "  <tbody>\n",
       "    <tr>\n",
       "      <th>0</th>\n",
       "      <td>12346.0</td>\n",
       "      <td>77183.60</td>\n",
       "      <td>1</td>\n",
       "    </tr>\n",
       "    <tr>\n",
       "      <th>1</th>\n",
       "      <td>12347.0</td>\n",
       "      <td>4310.00</td>\n",
       "      <td>182</td>\n",
       "    </tr>\n",
       "    <tr>\n",
       "      <th>2</th>\n",
       "      <td>12348.0</td>\n",
       "      <td>1797.24</td>\n",
       "      <td>31</td>\n",
       "    </tr>\n",
       "    <tr>\n",
       "      <th>3</th>\n",
       "      <td>12349.0</td>\n",
       "      <td>1757.55</td>\n",
       "      <td>73</td>\n",
       "    </tr>\n",
       "    <tr>\n",
       "      <th>4</th>\n",
       "      <td>12350.0</td>\n",
       "      <td>334.40</td>\n",
       "      <td>17</td>\n",
       "    </tr>\n",
       "    <tr>\n",
       "      <th>...</th>\n",
       "      <td>...</td>\n",
       "      <td>...</td>\n",
       "      <td>...</td>\n",
       "    </tr>\n",
       "    <tr>\n",
       "      <th>4333</th>\n",
       "      <td>18280.0</td>\n",
       "      <td>180.60</td>\n",
       "      <td>10</td>\n",
       "    </tr>\n",
       "    <tr>\n",
       "      <th>4334</th>\n",
       "      <td>18281.0</td>\n",
       "      <td>80.82</td>\n",
       "      <td>7</td>\n",
       "    </tr>\n",
       "    <tr>\n",
       "      <th>4335</th>\n",
       "      <td>18282.0</td>\n",
       "      <td>178.05</td>\n",
       "      <td>12</td>\n",
       "    </tr>\n",
       "    <tr>\n",
       "      <th>4336</th>\n",
       "      <td>18283.0</td>\n",
       "      <td>2094.88</td>\n",
       "      <td>756</td>\n",
       "    </tr>\n",
       "    <tr>\n",
       "      <th>4337</th>\n",
       "      <td>18287.0</td>\n",
       "      <td>1837.28</td>\n",
       "      <td>70</td>\n",
       "    </tr>\n",
       "  </tbody>\n",
       "</table>\n",
       "<p>4338 rows × 3 columns</p>\n",
       "</div>"
      ],
      "text/plain": [
       "      CustomerID    Amount  Frequency\n",
       "0        12346.0  77183.60          1\n",
       "1        12347.0   4310.00        182\n",
       "2        12348.0   1797.24         31\n",
       "3        12349.0   1757.55         73\n",
       "4        12350.0    334.40         17\n",
       "...          ...       ...        ...\n",
       "4333     18280.0    180.60         10\n",
       "4334     18281.0     80.82          7\n",
       "4335     18282.0    178.05         12\n",
       "4336     18283.0   2094.88        756\n",
       "4337     18287.0   1837.28         70\n",
       "\n",
       "[4338 rows x 3 columns]"
      ]
     },
     "execution_count": 8,
     "metadata": {},
     "output_type": "execute_result"
    }
   ],
   "source": [
    "#We create 2 new features, Frequency (total number of transactions and Amount, Total amount transactions)\n",
    "#Amount\n",
    "Amount = df1.groupby('CustomerID')['Total'].sum()\n",
    "Amount = Amount.reset_index()\n",
    "Amount.columns=['CustomerID','Amount']\n",
    "\n",
    "#frequency\n",
    "Frequency=df1.groupby('CustomerID')['InvoiceNo'].count()\n",
    "Frequency=Frequency.reset_index()\n",
    "Frequency.columns=['CustomerID','Frequency']\n",
    "\n",
    "# merge both df\n",
    "df2 = pd.merge(Amount, Frequency, on='CustomerID', how='inner')\n",
    "df2"
   ]
  },
  {
   "cell_type": "code",
   "execution_count": 9,
   "id": "67b80ce1",
   "metadata": {
    "papermill": {
     "duration": 0.044222,
     "end_time": "2022-12-06T22:32:30.785199",
     "exception": false,
     "start_time": "2022-12-06T22:32:30.740977",
     "status": "completed"
    },
    "tags": []
   },
   "outputs": [],
   "source": [
    "# dropping 'CustomerID' as it has no information\n",
    "df1.drop(['CustomerID'],axis = 1, inplace =True)"
   ]
  },
  {
   "cell_type": "code",
   "execution_count": 14,
   "id": "513238fe",
   "metadata": {
    "papermill": {
     "duration": 0.277098,
     "end_time": "2022-12-06T22:32:31.262400",
     "exception": false,
     "start_time": "2022-12-06T22:32:30.985302",
     "status": "completed"
    },
    "tags": []
   },
   "outputs": [
    {
     "data": {
      "image/png": "[encoded data removed]",
      "text/plain": [
       "<Figure size 600x600 with 2 Axes>"
      ]
     },
     "metadata": {},
     "output_type": "display_data"
    }
   ],
   "source": [
    "# Looking for outliers, which may disturb for the Segmentation process\n",
    "fig, ax = plt.subplots(nrows=1, ncols=2,figsize=(6,6))\n",
    "fig.suptitle('Outliers\\n', size = 25)\n",
    "\n",
    "sns.boxplot(ax=ax[0], data=df2['Amount'] ).set_title(\"Amount\")\n",
    "sns.boxplot(ax=ax[1], data=df2['Frequency'] ).set_title(\"Frequency\")\n",
    "\n",
    "plt.tight_layout()\n",
    "plt.show()\n",
    "# This example has outlier issues"
   ]
  },
  {
   "cell_type": "markdown",
   "id": "59f4793c",
   "metadata": {
    "papermill": {
     "duration": 0.037225,
     "end_time": "2022-12-06T22:32:31.337051",
     "exception": false,
     "start_time": "2022-12-06T22:32:31.299826",
     "status": "completed"
    },
    "tags": []
   },
   "source": [
    "It looks like we have significant problem with outliers."
   ]
  },
  {
   "cell_type": "code",
   "execution_count": 16,
   "id": "4c24439e",
   "metadata": {
    "papermill": {
     "duration": 0.049245,
     "end_time": "2022-12-06T22:32:33.334379",
     "exception": false,
     "start_time": "2022-12-06T22:32:33.285134",
     "status": "completed"
    },
    "tags": []
   },
   "outputs": [],
   "source": [
    "# Scalling data for better results\n",
    "from sklearn.preprocessing import StandardScaler\n",
    "scaler = StandardScaler()\n",
    "df3=scaler.fit_transform(df2)"
   ]
  },
  {
   "cell_type": "code",
   "execution_count": 17,
   "id": "4ffd46a1",
   "metadata": {
    "papermill": {
     "duration": 1.305226,
     "end_time": "2022-12-06T22:32:34.974183",
     "exception": false,
     "start_time": "2022-12-06T22:32:33.668957",
     "status": "completed"
    },
    "tags": []
   },
   "outputs": [
    {
     "data": {
      "image/png": "[encoded data removed]",
      "text/plain": [
       "<Figure size 640x480 with 1 Axes>"
      ]
     },
     "metadata": {},
     "output_type": "display_data"
    }
   ],
   "source": [
    "# Determining optimal number of clusters\n",
    "from sklearn.cluster import KMeans\n",
    "wcss = []\n",
    "for i in range(1, 11):\n",
    "    kmeans = KMeans(n_clusters = i, init = 'k-means++', random_state = 42)\n",
    "    kmeans.fit(df3)\n",
    "    wcss.append(kmeans.inertia_)\n",
    "plt.plot(range(1, 11), wcss)\n",
    "plt.title('The Elbow Method')\n",
    "plt.xlabel('Number of clusters')\n",
    "plt.ylabel('WCSS')\n",
    "plt.show()"
   ]
  },
  {
   "cell_type": "code",
   "execution_count": 25,
   "id": "c673fdc9",
   "metadata": {
    "papermill": {
     "duration": 0.403473,
     "end_time": "2022-12-06T22:32:41.868579",
     "exception": false,
     "start_time": "2022-12-06T22:32:41.465106",
     "status": "completed"
    },
    "tags": []
   },
   "outputs": [
    {
     "name": "stdout",
     "output_type": "stream",
     "text": [
      "Silhouetter Average Score for 5 clusters: 0.507\n",
      "Silhouetter Average Score for 4 clusters: 0.501\n",
      "Silhouetter Average Score for 3 clusters: 0.419\n"
     ]
    }
   ],
   "source": [
    "# Silhouetter qualifies quality of clustering\n",
    "from sklearn import datasets\n",
    "from sklearn.metrics import silhouette_score\n",
    "\n",
    "# Instantiate the KMeans for 5 clusters\n",
    "km = KMeans(n_clusters=5, random_state=42)\n",
    "# Fit the KMeans model\n",
    "km.fit_predict(df3)\n",
    "# Calculate Silhoutte Score\n",
    "score = silhouette_score(df3, km.labels_, metric='euclidean')\n",
    "# Print the score\n",
    "print('Silhouetter Average Score for 5 clusters: %.3f' % score)\n",
    "\n",
    "# Instantiate the KMeans for 4 clusters\n",
    "km = KMeans(n_clusters=4, random_state=42)\n",
    "# Fit the KMeans model\n",
    "km.fit_predict(df3)\n",
    "# Calculate Silhoutte Score\n",
    "score = silhouette_score(df3, km.labels_, metric='euclidean')\n",
    "# Print the score\n",
    "print('Silhouetter Average Score for 4 clusters: %.3f' % score)\n",
    "\n",
    "# Instantiate the KMeans for 6 clusters\n",
    "km = KMeans(n_clusters=6, random_state=42)\n",
    "# Fit the KMeans model\n",
    "km.fit_predict(df3)\n",
    "# Calculate Silhoutte Score\n",
    "score = silhouette_score(df3, km.labels_, metric='euclidean')\n",
    "# Print the score\n",
    "print('Silhouetter Average Score for 6 clusters: %.3f' % score)\n",
    "# Number is 5"
   ]
  },
  {
   "cell_type": "markdown",
   "id": "1c3a97df",
   "metadata": {
    "papermill": {
     "duration": 0.039777,
     "end_time": "2022-12-06T22:33:40.665762",
     "exception": false,
     "start_time": "2022-12-06T22:33:40.625985",
     "status": "completed"
    },
    "tags": []
   },
   "source": [
    "# K-means"
   ]
  },
  {
   "cell_type": "code",
   "execution_count": 34,
   "id": "9e90dcb4",
   "metadata": {
    "papermill": {
     "duration": 0.051068,
     "end_time": "2022-12-06T22:33:40.757080",
     "exception": false,
     "start_time": "2022-12-06T22:33:40.706012",
     "status": "completed"
    },
    "tags": []
   },
   "outputs": [],
   "source": [
    "# Copying data sets\n",
    "df_kmeans = df2.copy()"
   ]
  },
  {
   "cell_type": "code",
   "execution_count": 35,
   "id": "0b4852e0",
   "metadata": {
    "papermill": {
     "duration": 4.242453,
     "end_time": "2022-12-06T22:33:45.132879",
     "exception": false,
     "start_time": "2022-12-06T22:33:40.890426",
     "status": "completed"
    },
    "tags": []
   },
   "outputs": [],
   "source": [
    "# Training model\n",
    "kmeans = KMeans(n_clusters = 6, init = 'k-means++', random_state = 42)\n",
    "y_kmeans = kmeans.fit_predict(df_kmeans)\n"
   ]
  },
  {
   "cell_type": "code",
   "execution_count": 36,
   "id": "01a08cab",
   "metadata": {
    "papermill": {
     "duration": 0.063841,
     "end_time": "2022-12-06T22:33:49.445096",
     "exception": false,
     "start_time": "2022-12-06T22:33:49.381255",
     "status": "completed"
    },
    "tags": []
   },
   "outputs": [
    {
     "data": {
      "text/plain": [
       "Cluster\n",
       "4    2019\n",
       "0    1967\n",
       "5     293\n",
       "3      39\n",
       "2      15\n",
       "1       5\n",
       "Name: count, dtype: int64"
      ]
     },
     "execution_count": 36,
     "metadata": {},
     "output_type": "execute_result"
    }
   ],
   "source": [
    "\n",
    "# Checking number of items in clusters and creating 'Cluster' column\n",
    "df_kmeans['Cluster'] = y_kmeans\n",
    "df_kmeans['Cluster'].value_counts()"
   ]
  },
  {
   "cell_type": "code",
   "execution_count": 37,
   "id": "83e142b5",
   "metadata": {
    "papermill": {
     "duration": 0.564319,
     "end_time": "2022-12-06T22:33:50.061086",
     "exception": false,
     "start_time": "2022-12-06T22:33:49.496767",
     "status": "completed"
    },
    "tags": []
   },
   "outputs": [
    {
     "data": {
      "text/plain": [
       "<Axes: xlabel='Amount', ylabel='Frequency'>"
      ]
     },
     "execution_count": 37,
     "metadata": {},
     "output_type": "execute_result"
    },
    {
     "data": {
      "image/png": "[encoded data removed]",
      "text/plain": [
       "<Figure size 1500x700 with 1 Axes>"
      ]
     },
     "metadata": {},
     "output_type": "display_data"
    }
   ],
   "source": [
    "plt.figure(figsize=(15,7))\n",
    "sns.scatterplot(data=df_kmeans, x='Amount', y='Frequency', hue = 'Cluster', s=15, palette=\"Set3\")"
   ]
  },
  {
   "cell_type": "code",
   "execution_count": 38,
   "id": "0d337916-6d18-42ee-a99e-096a3bf77377",
   "metadata": {},
   "outputs": [
    {
     "name": "stdout",
     "output_type": "stream",
     "text": [
      "-----\n",
      "matplotlib          3.8.4\n",
      "numpy               1.26.4\n",
      "pandas              2.2.2\n",
      "seaborn             0.13.2\n",
      "session_info        1.0.0\n",
      "sklearn             1.4.2\n",
      "-----\n",
      "IPython             8.22.2\n",
      "jupyter_client      8.6.1\n",
      "jupyter_core        5.7.2\n",
      "-----\n",
      "Python 3.10.8 | packaged by conda-forge | (main, Nov 22 2022, 08:16:53) [MSC v.1929 64 bit (AMD64)]\n",
      "Windows-10-10.0.22631-SP0\n",
      "-----\n",
      "Session information updated at 2024-05-29 17:48\n"
     ]
    }
   ],
   "source": [
    "import session_info\n",
    "session_info.show(html=False)"
   ]
  },
  {
   "cell_type": "code",
   "execution_count": null,
   "id": "45b92bdc-2669-4019-a872-5061e8fe0c83",
   "metadata": {},
   "outputs": [],
   "source": []
  }
 ],
 "metadata": {
  "kernelspec": {
   "display_name": "DL",
   "language": "python",
   "name": "dl"
  },
  "language_info": {
   "codemirror_mode": {
    "name": "ipython",
    "version": 3
   },
   "file_extension": ".py",
   "mimetype": "text/x-python",
   "name": "python",
   "nbconvert_exporter": "python",
   "pygments_lexer": "ipython3",
   "version": "3.10.8"
  },
  "papermill": {
   "default_parameters": {},
   "duration": 141.259902,
   "end_time": "2022-12-06T22:34:38.828539",
   "environment_variables": {},
   "exception": null,
   "input_path": "__notebook__.ipynb",
   "output_path": "__notebook__.ipynb",
   "parameters": {},
   "start_time": "2022-12-06T22:32:17.568637",
   "version": "2.3.4"
  }
 },
 "nbformat": 4,
 "nbformat_minor": 5
}
