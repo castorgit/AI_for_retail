{
 "cells": [
  {
   "cell_type": "code",
   "execution_count": 1,
   "metadata": {},
   "outputs": [],
   "source": [
    "#https://github.com/16gs24/instacart-embeddings/tree/master"
   ]
  },
  {
   "cell_type": "code",
   "execution_count": 2,
   "metadata": {},
   "outputs": [],
   "source": [
    "# Finding similarites in items in instacart dataset from Kaggle"
   ]
  },
  {
   "cell_type": "code",
   "execution_count": 102,
   "metadata": {},
   "outputs": [],
   "source": [
    "import pandas as pd\n",
    "import numpy as np\n",
    "from gensim.models import Word2Vec\n",
    "from gensim.test.utils import get_tmpfile\n",
    "from datetime import datetime\n",
    "from sklearn.decomposition import PCA\n",
    "import matplotlib.pyplot as plt\n",
    "%matplotlib inline"
   ]
  },
  {
   "cell_type": "code",
   "execution_count": 103,
   "metadata": {},
   "outputs": [],
   "source": [
    "# loading datasets from instacart dataset\n",
    "\n",
    "orders = (pd.read_csv('./data/order_products__train.csv')\n",
    "          ._append(pd.read_csv('./data/order_products__prior.csv'))\n",
    "         )\n",
    "products = pd.read_csv('./data/products.csv')"
   ]
  },
  {
   "cell_type": "code",
   "execution_count": 104,
   "metadata": {},
   "outputs": [],
   "source": [
    "relevant_cols = ['order_id','product_name']\n",
    "\n",
    "#downsample while I test the code for faster iteration on syntax. run full dataset before commit.\n",
    "sample_size = 1\n",
    "\n",
    "baskets = (orders\n",
    "           .merge(products,on='product_id',how='left')\n",
    "           .sample(frac=sample_size)\n",
    "          )[relevant_cols]\n",
    "\n",
    "#memory management on my local computer\n",
    "#del([orders,products])"
   ]
  },
  {
   "cell_type": "code",
   "execution_count": null,
   "metadata": {},
   "outputs": [],
   "source": [
    "# Count the occurrences of each word\n",
    "# we have a problem because there are many products sold a few times, \n",
    "# this does not help with the embeddings\n",
    "baskets.product_name\n",
    "item_counts = baskets['product_name'].value_counts()\n",
    "df_counts = item_counts.to_frame().reset_index()\n",
    "\n",
    "df_counts"
   ]
  },
  {
   "cell_type": "code",
   "execution_count": 105,
   "metadata": {},
   "outputs": [
    {
     "data": {
      "text/html": [
       "<div>\n",
       "<style scoped>\n",
       "    .dataframe tbody tr th:only-of-type {\n",
       "        vertical-align: middle;\n",
       "    }\n",
       "\n",
       "    .dataframe tbody tr th {\n",
       "        vertical-align: top;\n",
       "    }\n",
       "\n",
       "    .dataframe thead th {\n",
       "        text-align: right;\n",
       "    }\n",
       "</style>\n",
       "<table border=\"1\" class=\"dataframe\">\n",
       "  <thead>\n",
       "    <tr style=\"text-align: right;\">\n",
       "      <th></th>\n",
       "      <th>order_id</th>\n",
       "      <th>product_name</th>\n",
       "    </tr>\n",
       "  </thead>\n",
       "  <tbody>\n",
       "    <tr>\n",
       "      <th>4</th>\n",
       "      <td>1</td>\n",
       "      <td>Lightly Smoked Sardines in Olive Oil</td>\n",
       "    </tr>\n",
       "    <tr>\n",
       "      <th>7</th>\n",
       "      <td>1</td>\n",
       "      <td>Organic Whole String Cheese</td>\n",
       "    </tr>\n",
       "    <tr>\n",
       "      <th>3</th>\n",
       "      <td>1</td>\n",
       "      <td>Cucumber Kirby</td>\n",
       "    </tr>\n",
       "    <tr>\n",
       "      <th>2</th>\n",
       "      <td>1</td>\n",
       "      <td>Organic Celery Hearts</td>\n",
       "    </tr>\n",
       "    <tr>\n",
       "      <th>1</th>\n",
       "      <td>1</td>\n",
       "      <td>Organic 4% Milk Fat Whole Milk Cottage Cheese</td>\n",
       "    </tr>\n",
       "    <tr>\n",
       "      <th>5</th>\n",
       "      <td>1</td>\n",
       "      <td>Bag of Organic Bananas</td>\n",
       "    </tr>\n",
       "    <tr>\n",
       "      <th>6</th>\n",
       "      <td>1</td>\n",
       "      <td>Organic Hass Avocado</td>\n",
       "    </tr>\n",
       "    <tr>\n",
       "      <th>0</th>\n",
       "      <td>1</td>\n",
       "      <td>Bulgarian Yogurt</td>\n",
       "    </tr>\n",
       "    <tr>\n",
       "      <th>1384620</th>\n",
       "      <td>2</td>\n",
       "      <td>Coconut Butter</td>\n",
       "    </tr>\n",
       "    <tr>\n",
       "      <th>1384619</th>\n",
       "      <td>2</td>\n",
       "      <td>Garlic Powder</td>\n",
       "    </tr>\n",
       "    <tr>\n",
       "      <th>1384618</th>\n",
       "      <td>2</td>\n",
       "      <td>Michigan Organic Kale</td>\n",
       "    </tr>\n",
       "    <tr>\n",
       "      <th>1384623</th>\n",
       "      <td>2</td>\n",
       "      <td>Original Unflavored Gelatine Mix</td>\n",
       "    </tr>\n",
       "    <tr>\n",
       "      <th>1384625</th>\n",
       "      <td>2</td>\n",
       "      <td>Classic Blend Cole Slaw</td>\n",
       "    </tr>\n",
       "    <tr>\n",
       "      <th>1384617</th>\n",
       "      <td>2</td>\n",
       "      <td>Organic Egg Whites</td>\n",
       "    </tr>\n",
       "    <tr>\n",
       "      <th>1384624</th>\n",
       "      <td>2</td>\n",
       "      <td>All Natural No Stir Creamy Almond Butter</td>\n",
       "    </tr>\n",
       "    <tr>\n",
       "      <th>1384621</th>\n",
       "      <td>2</td>\n",
       "      <td>Natural Sweetener</td>\n",
       "    </tr>\n",
       "    <tr>\n",
       "      <th>1384622</th>\n",
       "      <td>2</td>\n",
       "      <td>Carrots</td>\n",
       "    </tr>\n",
       "    <tr>\n",
       "      <th>1384627</th>\n",
       "      <td>3</td>\n",
       "      <td>Unsweetened Almondmilk</td>\n",
       "    </tr>\n",
       "    <tr>\n",
       "      <th>1384633</th>\n",
       "      <td>3</td>\n",
       "      <td>Organic Ezekiel 49 Bread Cinnamon Raisin</td>\n",
       "    </tr>\n",
       "    <tr>\n",
       "      <th>1384629</th>\n",
       "      <td>3</td>\n",
       "      <td>Organic Baby Spinach</td>\n",
       "    </tr>\n",
       "  </tbody>\n",
       "</table>\n",
       "</div>"
      ],
      "text/plain": [
       "         order_id                                   product_name\n",
       "4               1           Lightly Smoked Sardines in Olive Oil\n",
       "7               1                    Organic Whole String Cheese\n",
       "3               1                                 Cucumber Kirby\n",
       "2               1                          Organic Celery Hearts\n",
       "1               1  Organic 4% Milk Fat Whole Milk Cottage Cheese\n",
       "5               1                         Bag of Organic Bananas\n",
       "6               1                           Organic Hass Avocado\n",
       "0               1                               Bulgarian Yogurt\n",
       "1384620         2                                 Coconut Butter\n",
       "1384619         2                                  Garlic Powder\n",
       "1384618         2                          Michigan Organic Kale\n",
       "1384623         2               Original Unflavored Gelatine Mix\n",
       "1384625         2                        Classic Blend Cole Slaw\n",
       "1384617         2                             Organic Egg Whites\n",
       "1384624         2       All Natural No Stir Creamy Almond Butter\n",
       "1384621         2                              Natural Sweetener\n",
       "1384622         2                                        Carrots\n",
       "1384627         3                         Unsweetened Almondmilk\n",
       "1384633         3       Organic Ezekiel 49 Bread Cinnamon Raisin\n",
       "1384629         3                           Organic Baby Spinach"
      ]
     },
     "execution_count": 105,
     "metadata": {},
     "output_type": "execute_result"
    }
   ],
   "source": [
    "baskets.sort_values(['order_id']).head(20)"
   ]
  },
  {
   "cell_type": "markdown",
   "metadata": {},
   "source": [
    "### Embedding Size\n",
    "\n",
    "This will matter as we use gensim's word2vec implementation for this task. The learning task for word2vec is predicting the a missing word given a window of words around it using a single hidden layer.  Rather than caring about the quality of the prediction, the weights of the hidden layer are what represent the product embedding that we will use. The number of neurons in the hidden layer is a tunable parameter. Unfortunately, there isn't great guidance on select for this, but eyeballing the resulting embeddings can give guidance on quality of fit. Some people recommend using the 4th root of unique tokens in our corpus, which I'll try.\n",
    "\n",
    "A tunable parameter for the algorithm is the context window, how many words around the target word to use for our prediction task. Given the lack of order, we will want to use the size of the largest basket, 145 for this parameter."
   ]
  },
  {
   "cell_type": "code",
   "execution_count": 9,
   "metadata": {},
   "outputs": [
    {
     "name": "stdout",
     "output_type": "stream",
     "text": [
      "Let's use vectors of length 14 for 49685 products\n",
      "The biggest basket (window in our algorithm) will be 145\n"
     ]
    }
   ],
   "source": [
    "num_items = baskets.product_name.nunique()\n",
    "embedding_size = np.floor(num_items**0.25).astype('int')\n",
    "print('''Let's use vectors of length {n} for {tokens} products'''.format(n=embedding_size, \n",
    "                                                                         tokens = num_items))\n",
    "\n",
    "biggest_basket = np.max(baskets.groupby('order_id').product_name.nunique())\n",
    "print('''The biggest basket (window in our algorithm) will be {}'''.format(biggest_basket))"
   ]
  },
  {
   "cell_type": "markdown",
   "metadata": {},
   "source": [
    "### Shaping our Data\n",
    "The gensim implementation of word2vec expects each document to be a list. Traditionally, each document is a list of words. In this case, each basket is a list of products. We will use the product name, which will be more expensive in memory but will make interpretation easier."
   ]
  },
  {
   "cell_type": "code",
   "execution_count": 10,
   "metadata": {},
   "outputs": [],
   "source": [
    "df_of_basket_lists = (baskets\n",
    "        .groupby('order_id')\n",
    "        .apply(lambda baskets :\n",
    "                baskets.product_name.tolist()\n",
    "               )\n",
    "       )\n",
    "\n",
    "#memory management\n",
    "#del(baskets)"
   ]
  },
  {
   "cell_type": "code",
   "execution_count": 12,
   "metadata": {},
   "outputs": [
    {
     "data": {
      "text/plain": [
       "order_id\n",
       "1    [Cucumber Kirby, Bag of Organic Bananas, Organ...\n",
       "2    [Organic Egg Whites, Michigan Organic Kale, Ca...\n",
       "3    [Organic Ezekiel 49 Bread Cinnamon Raisin, Uns...\n",
       "4    [Original Orange Juice, Kellogg's Nutri-Grain ...\n",
       "5    [Biscuits Orange Pim's, Meyer Lemon, American ...\n",
       "dtype: object"
      ]
     },
     "execution_count": 12,
     "metadata": {},
     "output_type": "execute_result"
    }
   ],
   "source": [
    "df_of_basket_lists.head()"
   ]
  },
  {
   "cell_type": "code",
   "execution_count": 13,
   "metadata": {},
   "outputs": [
    {
     "name": "stdout",
     "output_type": "stream",
     "text": [
      "3346083\n"
     ]
    }
   ],
   "source": [
    "print(len(df_of_basket_lists))"
   ]
  },
  {
   "cell_type": "code",
   "execution_count": 64,
   "metadata": {},
   "outputs": [],
   "source": [
    "model = Word2Vec(df_of_basket_lists, vector_size=embedding_size, window=biggest_basket, min_count=1)"
   ]
  },
  {
   "cell_type": "code",
   "execution_count": 65,
   "metadata": {},
   "outputs": [],
   "source": [
    "def cosine_similarity(word_u,word_v,model):\n",
    "    \"\"\"\n",
    "    Cosine similarity gets the similarity for two products and computes the similarity \n",
    "    between two embeddings in our word2vec model\n",
    "        \n",
    "    Arguments:\n",
    "        u - numpy array of shape (n,)        \n",
    "        v - numpy array of shape (n,)\n",
    "\n",
    "    Returns:\n",
    "        cosine similarity between words u & v\n",
    "    \"\"\"\n",
    "    #get embeddings from gensim model\n",
    "    u = model.wv[word_u]\n",
    "    v = model.wv[word_v]\n",
    "\n",
    "    #compute similarity\n",
    "    dot = np.dot(u, v)\n",
    "    norm_u = np.sqrt(np.sum(u * u))\n",
    "    norm_v = np.sqrt(np.sum(v * v))\n",
    "    cosine_similarity = dot / (norm_u * norm_v)\n",
    "    \n",
    "    return cosine_similarity"
   ]
  },
  {
   "cell_type": "code",
   "execution_count": 66,
   "metadata": {},
   "outputs": [
    {
     "data": {
      "text/plain": [
       "array([-0.2234447 , -0.02080378,  0.0138538 ,  0.1951637 , -0.1483195 ,\n",
       "        0.03569596, -0.00202972,  0.0989695 ,  0.0375315 , -0.0470693 ,\n",
       "       -0.17808595, -0.07264414, -0.00224825, -0.26662764], dtype=float32)"
      ]
     },
     "execution_count": 66,
     "metadata": {},
     "output_type": "execute_result"
    }
   ],
   "source": [
    "model.wv['Charcoal Briquets Easy Light Bag']"
   ]
  },
  {
   "cell_type": "code",
   "execution_count": 67,
   "metadata": {},
   "outputs": [
    {
     "data": {
      "text/plain": [
       "0.9449954"
      ]
     },
     "execution_count": 67,
     "metadata": {},
     "output_type": "execute_result"
    }
   ],
   "source": [
    "#a pair of similar identity items\n",
    "cosine_similarity('Organic Whole Milk','Organic Reduced Fat Milk',model)"
   ]
  },
  {
   "cell_type": "code",
   "execution_count": 68,
   "metadata": {},
   "outputs": [
    {
     "data": {
      "text/plain": [
       "0.36388174"
      ]
     },
     "execution_count": 68,
     "metadata": {},
     "output_type": "execute_result"
    }
   ],
   "source": [
    "# a pair of similar items within a department\n",
    "cosine_similarity('Bag of Organic Bananas','Limes',model)"
   ]
  },
  {
   "cell_type": "code",
   "execution_count": 69,
   "metadata": {},
   "outputs": [
    {
     "data": {
      "text/plain": [
       "-0.40542653"
      ]
     },
     "execution_count": 69,
     "metadata": {},
     "output_type": "execute_result"
    }
   ],
   "source": [
    "# a pair of very different items\n",
    "cosine_similarity('Bag of Organic Bananas','Party Tumblers',model)"
   ]
  },
  {
   "cell_type": "code",
   "execution_count": 70,
   "metadata": {},
   "outputs": [
    {
     "data": {
      "text/plain": [
       "0.5543359"
      ]
     },
     "execution_count": 70,
     "metadata": {},
     "output_type": "execute_result"
    }
   ],
   "source": [
    "cosine_similarity('100% Columbian Coffee', 'Coffee Liqueur', model)"
   ]
  },
  {
   "cell_type": "code",
   "execution_count": 71,
   "metadata": {},
   "outputs": [
    {
     "data": {
      "text/plain": [
       "-0.063098915"
      ]
     },
     "execution_count": 71,
     "metadata": {},
     "output_type": "execute_result"
    }
   ],
   "source": [
    "cosine_similarity('100% Columbian Coffee', 'Natural Cane Turbinado Sugar', model)"
   ]
  },
  {
   "cell_type": "code",
   "execution_count": 72,
   "metadata": {},
   "outputs": [],
   "source": [
    "def display_pca_scatterplot(model, words=None, sample=0):\n",
    "    if words == None:\n",
    "        if sample > 0:\n",
    "            words = np.random.choice(list(model.index_to_key), sample)\n",
    "#            words = np.random.choice(list(model.vocab.keys()), sample)\n",
    "\n",
    "        else:\n",
    "            words = [ word for word in model.vocab ]\n",
    "        \n",
    "    word_vectors = np.array([model[w] for w in words])\n",
    "\n",
    "    twodim = PCA().fit_transform(word_vectors)[:,:2]\n",
    "    \n",
    "    plt.figure(figsize=(16,10))\n",
    "    plt.scatter(twodim[:,0], twodim[:,1], edgecolors='k', c='r')\n",
    "    for word, (x,y) in zip(words, twodim):\n",
    "        plt.text(x+0.05, y+0.05, word)"
   ]
  },
  {
   "cell_type": "code",
   "execution_count": 73,
   "metadata": {
    "scrolled": true
   },
   "outputs": [
    {
     "data": {
      "text/plain": [
       "[('Rainforest Blend Coffee K-Cups', 0.9190124869346619),\n",
       " ('Organic Bucatini', 0.9058505892753601),\n",
       " ('Honey Crisp Apple Juice', 0.9007980823516846),\n",
       " ('Coffee Cake Bites', 0.8681004047393799),\n",
       " ('Mini Croissant', 0.8622719645500183),\n",
       " ('Brioche Tressee Slice Loaf', 0.840765118598938),\n",
       " ('Vanilla Bean & Honey Yogurt Protein Drink', 0.8382801413536072),\n",
       " ('The Great Organic Uncured Stadium Beef Hot Dog', 0.8334919214248657),\n",
       " ('Brioche', 0.8322628140449524),\n",
       " ('Sliced Sharp Cheddar', 0.831687867641449)]"
      ]
     },
     "execution_count": 73,
     "metadata": {},
     "output_type": "execute_result"
    }
   ],
   "source": [
    "model.wv.most_similar('Chicken Fingers')\n"
   ]
  },
  {
   "cell_type": "code",
   "execution_count": 74,
   "metadata": {},
   "outputs": [],
   "source": [
    "# same aisle same category\n",
    "products_draw = ['Spicy Chicken Breast Patties', \n",
    "'Gluten Free Crispy Battered Haddock',\n",
    "'Key West Pink Shrimp', \n",
    "'Potato Crunch Fish Fillets', \n",
    "'Classic Seasoning with Lemon Skillet Crisp Tilapia',\n",
    "'Mini Crispy Crabless Cakes',\n",
    "'Whole Grain Breaded Chicken Breast Chunks',\n",
    "'Chipotle Black Bean Burger',\n",
    "'Cracked Peppercorn Tilapia', \n",
    "'Angus Beef Meatballs',\n",
    "'Crispy Strips',\n",
    "'Chicken Fingers',\n",
    "'Patties, Beef, Quarter Pound',\n",
    "'Original Turkey Burgers Smoke Flavor Added',\n",
    "'Tortilla Crusted Tilapia',\n",
    "'Crispy Chicken',\n",
    "'Breaded Vegan Coconut Shrimp',\n",
    "'Breaded Chicken Patties',\n",
    "'Crab Cakes',\n",
    "'Breaded Nuggets Chicken Breast']"
   ]
  },
  {
   "cell_type": "code",
   "execution_count": 75,
   "metadata": {},
   "outputs": [
    {
     "data": {
      "image/png": "[encoded data removed]",
      "text/plain": [
       "<Figure size 1600x1000 with 1 Axes>"
      ]
     },
     "metadata": {},
     "output_type": "display_data"
    }
   ],
   "source": [
    "display_pca_scatterplot(model.wv, products_draw)\n",
    "plt.show()"
   ]
  },
  {
   "cell_type": "code",
   "execution_count": 76,
   "metadata": {},
   "outputs": [
    {
     "data": {
      "image/png": "[encoded data removed]",
      "text/plain": [
       "<Figure size 1600x1000 with 1 Axes>"
      ]
     },
     "metadata": {},
     "output_type": "display_data"
    }
   ],
   "source": [
    "products_raw=['Peach Mango Juice',\n",
    "'Chocolate Fudge Layer Cake',\n",
    "'Pizza for One Suprema  Frozen Pizza',\n",
    "'Chicken Fingers',\n",
    "'100% Columbian Coffee',\n",
    "'Breaded Chicken Patties',\n",
    "'Organic Whole Milk','Organic Reduced Fat Milk',\n",
    "'Crispy Chicken',\n",
    "'Ground Turkey Chub']\n",
    "\n",
    "display_pca_scatterplot(model.wv, products_raw)\n",
    "plt.show()"
   ]
  },
  {
   "cell_type": "code",
   "execution_count": 77,
   "metadata": {},
   "outputs": [
    {
     "data": {
      "text/plain": [
       "order_id\n",
       "1          [Cucumber Kirby, Bag of Organic Bananas, Organ...\n",
       "2          [Organic Egg Whites, Michigan Organic Kale, Ca...\n",
       "3          [Organic Ezekiel 49 Bread Cinnamon Raisin, Uns...\n",
       "4          [Original Orange Juice, Kellogg's Nutri-Grain ...\n",
       "5          [Biscuits Orange Pim's, Meyer Lemon, American ...\n",
       "                                 ...                        \n",
       "3421079                                      [Moisture Soap]\n",
       "3421080    [Organic Apple Juice, Imported Butter, Organic...\n",
       "3421081    [Hint of Lime Flavored Tortilla Chips, Healthy...\n",
       "3421082    [Original Whipped Cream, Toasted Coconut Chips...\n",
       "3421083    [Organic  Sweet & Salty Peanut Pretzel Granola...\n",
       "Length: 3346083, dtype: object"
      ]
     },
     "execution_count": 77,
     "metadata": {},
     "output_type": "execute_result"
    }
   ],
   "source": [
    "df_of_basket_lists"
   ]
  },
  {
   "cell_type": "code",
   "execution_count": 78,
   "metadata": {},
   "outputs": [],
   "source": [
    "# Calculation of the word embedding of a basket\n",
    "def basket_embedding(basket):\n",
    "    average_emb = np.zeros(embedding_size)\n",
    "    for prod in basket:\n",
    "        u = model.wv[prod]\n",
    "        average_emb += u\n",
    "        \n",
    "    average_emb /= len(basket)\n",
    "    return average_emb"
   ]
  },
  {
   "cell_type": "code",
   "execution_count": 79,
   "metadata": {},
   "outputs": [
    {
     "data": {
      "text/plain": [
       "array([-1.28522687,  0.92928977,  0.27509518,  0.48135341,  0.42370527,\n",
       "       -0.23195807, -0.35077689, -2.01873805, -1.96688835,  0.07829562,\n",
       "        0.47359998, -0.43995561,  1.27436245, -0.83051048])"
      ]
     },
     "execution_count": 79,
     "metadata": {},
     "output_type": "execute_result"
    }
   ],
   "source": [
    "basket_embedding(['Peach Mango Juice',\n",
    "'Chocolate Fudge Layer Cake',\n",
    "'Pizza for One Suprema  Frozen Pizza',\n",
    "'Chicken Fingers',\n",
    "'100% Columbian Coffee',\n",
    "'Breaded Chicken Patties',\n",
    "'Organic Whole Milk','Organic Reduced Fat Milk',\n",
    "'Crispy Chicken',\n",
    "'Ground Turkey Chub'])"
   ]
  },
  {
   "cell_type": "code",
   "execution_count": 80,
   "metadata": {},
   "outputs": [],
   "source": [
    "df_baskets = df_of_basket_lists.to_frame().reset_index()\n",
    "df_baskets.columns = ['order_id', 'products']"
   ]
  },
  {
   "cell_type": "code",
   "execution_count": 81,
   "metadata": {},
   "outputs": [
    {
     "data": {
      "text/html": [
       "<div>\n",
       "<style scoped>\n",
       "    .dataframe tbody tr th:only-of-type {\n",
       "        vertical-align: middle;\n",
       "    }\n",
       "\n",
       "    .dataframe tbody tr th {\n",
       "        vertical-align: top;\n",
       "    }\n",
       "\n",
       "    .dataframe thead th {\n",
       "        text-align: right;\n",
       "    }\n",
       "</style>\n",
       "<table border=\"1\" class=\"dataframe\">\n",
       "  <thead>\n",
       "    <tr style=\"text-align: right;\">\n",
       "      <th></th>\n",
       "      <th>order_id</th>\n",
       "      <th>products</th>\n",
       "    </tr>\n",
       "  </thead>\n",
       "  <tbody>\n",
       "    <tr>\n",
       "      <th>0</th>\n",
       "      <td>1</td>\n",
       "      <td>[Cucumber Kirby, Bag of Organic Bananas, Organ...</td>\n",
       "    </tr>\n",
       "    <tr>\n",
       "      <th>1</th>\n",
       "      <td>2</td>\n",
       "      <td>[Organic Egg Whites, Michigan Organic Kale, Ca...</td>\n",
       "    </tr>\n",
       "    <tr>\n",
       "      <th>2</th>\n",
       "      <td>3</td>\n",
       "      <td>[Organic Ezekiel 49 Bread Cinnamon Raisin, Uns...</td>\n",
       "    </tr>\n",
       "    <tr>\n",
       "      <th>3</th>\n",
       "      <td>4</td>\n",
       "      <td>[Original Orange Juice, Kellogg's Nutri-Grain ...</td>\n",
       "    </tr>\n",
       "    <tr>\n",
       "      <th>4</th>\n",
       "      <td>5</td>\n",
       "      <td>[Biscuits Orange Pim's, Meyer Lemon, American ...</td>\n",
       "    </tr>\n",
       "    <tr>\n",
       "      <th>...</th>\n",
       "      <td>...</td>\n",
       "      <td>...</td>\n",
       "    </tr>\n",
       "    <tr>\n",
       "      <th>3346078</th>\n",
       "      <td>3421079</td>\n",
       "      <td>[Moisture Soap]</td>\n",
       "    </tr>\n",
       "    <tr>\n",
       "      <th>3346079</th>\n",
       "      <td>3421080</td>\n",
       "      <td>[Organic Apple Juice, Imported Butter, Organic...</td>\n",
       "    </tr>\n",
       "    <tr>\n",
       "      <th>3346080</th>\n",
       "      <td>3421081</td>\n",
       "      <td>[Hint of Lime Flavored Tortilla Chips, Healthy...</td>\n",
       "    </tr>\n",
       "    <tr>\n",
       "      <th>3346081</th>\n",
       "      <td>3421082</td>\n",
       "      <td>[Original Whipped Cream, Toasted Coconut Chips...</td>\n",
       "    </tr>\n",
       "    <tr>\n",
       "      <th>3346082</th>\n",
       "      <td>3421083</td>\n",
       "      <td>[Organic  Sweet &amp; Salty Peanut Pretzel Granola...</td>\n",
       "    </tr>\n",
       "  </tbody>\n",
       "</table>\n",
       "<p>3346083 rows × 2 columns</p>\n",
       "</div>"
      ],
      "text/plain": [
       "         order_id                                           products\n",
       "0               1  [Cucumber Kirby, Bag of Organic Bananas, Organ...\n",
       "1               2  [Organic Egg Whites, Michigan Organic Kale, Ca...\n",
       "2               3  [Organic Ezekiel 49 Bread Cinnamon Raisin, Uns...\n",
       "3               4  [Original Orange Juice, Kellogg's Nutri-Grain ...\n",
       "4               5  [Biscuits Orange Pim's, Meyer Lemon, American ...\n",
       "...           ...                                                ...\n",
       "3346078   3421079                                    [Moisture Soap]\n",
       "3346079   3421080  [Organic Apple Juice, Imported Butter, Organic...\n",
       "3346080   3421081  [Hint of Lime Flavored Tortilla Chips, Healthy...\n",
       "3346081   3421082  [Original Whipped Cream, Toasted Coconut Chips...\n",
       "3346082   3421083  [Organic  Sweet & Salty Peanut Pretzel Granola...\n",
       "\n",
       "[3346083 rows x 2 columns]"
      ]
     },
     "execution_count": 81,
     "metadata": {},
     "output_type": "execute_result"
    }
   ],
   "source": [
    "df_baskets"
   ]
  },
  {
   "cell_type": "code",
   "execution_count": 101,
   "metadata": {},
   "outputs": [
    {
     "data": {
      "text/html": [
       "<div>\n",
       "<style scoped>\n",
       "    .dataframe tbody tr th:only-of-type {\n",
       "        vertical-align: middle;\n",
       "    }\n",
       "\n",
       "    .dataframe tbody tr th {\n",
       "        vertical-align: top;\n",
       "    }\n",
       "\n",
       "    .dataframe thead th {\n",
       "        text-align: right;\n",
       "    }\n",
       "</style>\n",
       "<table border=\"1\" class=\"dataframe\">\n",
       "  <thead>\n",
       "    <tr style=\"text-align: right;\">\n",
       "      <th></th>\n",
       "      <th>order_id</th>\n",
       "      <th>product_name</th>\n",
       "      <th>Count</th>\n",
       "    </tr>\n",
       "  </thead>\n",
       "  <tbody>\n",
       "    <tr>\n",
       "      <th>0</th>\n",
       "      <td>1670851</td>\n",
       "      <td>Grapefruit, Bag</td>\n",
       "      <td>1</td>\n",
       "    </tr>\n",
       "    <tr>\n",
       "      <th>1</th>\n",
       "      <td>2354118</td>\n",
       "      <td>Pure &amp; Natural Sour Cream</td>\n",
       "      <td>1</td>\n",
       "    </tr>\n",
       "    <tr>\n",
       "      <th>2</th>\n",
       "      <td>1331577</td>\n",
       "      <td>Sesame Seaweed Salad</td>\n",
       "      <td>1</td>\n",
       "    </tr>\n",
       "    <tr>\n",
       "      <th>3</th>\n",
       "      <td>216484</td>\n",
       "      <td>Half &amp; Half</td>\n",
       "      <td>1</td>\n",
       "    </tr>\n",
       "    <tr>\n",
       "      <th>4</th>\n",
       "      <td>1613916</td>\n",
       "      <td>Via Italian Roast Instant Coffee</td>\n",
       "      <td>1</td>\n",
       "    </tr>\n",
       "    <tr>\n",
       "      <th>...</th>\n",
       "      <td>...</td>\n",
       "      <td>...</td>\n",
       "      <td>...</td>\n",
       "    </tr>\n",
       "    <tr>\n",
       "      <th>49680</th>\n",
       "      <td>554562</td>\n",
       "      <td>Salsa, Black Bean</td>\n",
       "      <td>1</td>\n",
       "    </tr>\n",
       "    <tr>\n",
       "      <th>49681</th>\n",
       "      <td>1666202</td>\n",
       "      <td>Indian Wells Merlot</td>\n",
       "      <td>1</td>\n",
       "    </tr>\n",
       "    <tr>\n",
       "      <th>49682</th>\n",
       "      <td>2054334</td>\n",
       "      <td>Blackened Turkey</td>\n",
       "      <td>1</td>\n",
       "    </tr>\n",
       "    <tr>\n",
       "      <th>49683</th>\n",
       "      <td>828012</td>\n",
       "      <td>Hennepin Farmhouse Ale</td>\n",
       "      <td>1</td>\n",
       "    </tr>\n",
       "    <tr>\n",
       "      <th>49684</th>\n",
       "      <td>2882701</td>\n",
       "      <td>Doc McStuffins Adhesive Bandages</td>\n",
       "      <td>1</td>\n",
       "    </tr>\n",
       "  </tbody>\n",
       "</table>\n",
       "<p>49685 rows × 3 columns</p>\n",
       "</div>"
      ],
      "text/plain": [
       "       order_id                      product_name  Count\n",
       "0       1670851                   Grapefruit, Bag      1\n",
       "1       2354118         Pure & Natural Sour Cream      1\n",
       "2       1331577              Sesame Seaweed Salad      1\n",
       "3        216484                       Half & Half      1\n",
       "4       1613916  Via Italian Roast Instant Coffee      1\n",
       "...         ...                               ...    ...\n",
       "49680    554562                 Salsa, Black Bean      1\n",
       "49681   1666202               Indian Wells Merlot      1\n",
       "49682   2054334                  Blackened Turkey      1\n",
       "49683    828012            Hennepin Farmhouse Ale      1\n",
       "49684   2882701  Doc McStuffins Adhesive Bandages      1\n",
       "\n",
       "[49685 rows x 3 columns]"
      ]
     },
     "execution_count": 101,
     "metadata": {},
     "output_type": "execute_result"
    }
   ],
   "source": [
    "baskets"
   ]
  },
  {
   "cell_type": "code",
   "execution_count": 82,
   "metadata": {},
   "outputs": [],
   "source": [
    "df_baskets['embedding'] = df_baskets['products'].apply(basket_embedding)"
   ]
  },
  {
   "cell_type": "code",
   "execution_count": 83,
   "metadata": {},
   "outputs": [
    {
     "data": {
      "text/plain": [
       "Index(['order_id', 'products', 'embedding'], dtype='object')"
      ]
     },
     "execution_count": 83,
     "metadata": {},
     "output_type": "execute_result"
    }
   ],
   "source": [
    "df_baskets.columns"
   ]
  },
  {
   "cell_type": "code",
   "execution_count": null,
   "metadata": {},
   "outputs": [],
   "source": [
    "import session_info\n",
    "session_info.show(html=False)"
   ]
  },
  {
   "cell_type": "code",
   "execution_count": null,
   "metadata": {},
   "outputs": [],
   "source": []
  }
 ],
 "metadata": {
  "kernelspec": {
   "display_name": "DL",
   "language": "python",
   "name": "dl"
  },
  "language_info": {
   "codemirror_mode": {
    "name": "ipython",
    "version": 3
   },
   "file_extension": ".py",
   "mimetype": "text/x-python",
   "name": "python",
   "nbconvert_exporter": "python",
   "pygments_lexer": "ipython3",
   "version": "3.10.8"
  }
 },
 "nbformat": 4,
 "nbformat_minor": 4
}
