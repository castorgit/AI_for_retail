{
 "cells": [
  {
   "cell_type": "markdown",
   "metadata": {},
   "source": [
    "### Product2vec: Instacart Item Embeddings\n",
    "\n",
    "This is a naive example on how to generate embeddings from the instacart dataset"
   ]
  },
  {
   "cell_type": "code",
   "execution_count": 2,
   "metadata": {},
   "outputs": [],
   "source": [
    "import pandas as pd\n",
    "import numpy as np\n",
    "from gensim.models import Word2Vec\n",
    "from gensim.test.utils import get_tmpfile\n",
    "from datetime import datetime\n",
    "%matplotlib inline"
   ]
  },
  {
   "cell_type": "code",
   "execution_count": 18,
   "metadata": {},
   "outputs": [],
   "source": [
    "# append our repeated orders with our prior orders, to get the complete t-log.\n",
    "\n",
    "o1 = pd.read_csv('./data/order_products__train.csv')\n",
    "o2 = pd.read_csv('./data/order_products__prior.csv')\n",
    "orders = pd.concat([o1, o2], ignore_index=True)\n",
    "\n",
    "products = pd.read_csv('data/products.csv')"
   ]
  },
  {
   "cell_type": "code",
   "execution_count": 19,
   "metadata": {},
   "outputs": [],
   "source": [
    "relevant_cols = ['order_id','product_name']\n",
    "\n",
    "#downsample while I test the code for faster iteration on syntax. run full dataset before commit.\n",
    "sample_size = 1\n",
    "\n",
    "baskets = (orders\n",
    "           .merge(products,on='product_id',how='left')\n",
    "           .sample(frac=sample_size)\n",
    "          )[relevant_cols]\n",
    "\n",
    "#memory management on my local computer\n",
    "del([orders,products])"
   ]
  },
  {
   "cell_type": "code",
   "execution_count": 20,
   "metadata": {},
   "outputs": [
    {
     "data": {
      "text/html": [
       "<div>\n",
       "<style scoped>\n",
       "    .dataframe tbody tr th:only-of-type {\n",
       "        vertical-align: middle;\n",
       "    }\n",
       "\n",
       "    .dataframe tbody tr th {\n",
       "        vertical-align: top;\n",
       "    }\n",
       "\n",
       "    .dataframe thead th {\n",
       "        text-align: right;\n",
       "    }\n",
       "</style>\n",
       "<table border=\"1\" class=\"dataframe\">\n",
       "  <thead>\n",
       "    <tr style=\"text-align: right;\">\n",
       "      <th></th>\n",
       "      <th>order_id</th>\n",
       "      <th>product_name</th>\n",
       "    </tr>\n",
       "  </thead>\n",
       "  <tbody>\n",
       "    <tr>\n",
       "      <th>4</th>\n",
       "      <td>1</td>\n",
       "      <td>Lightly Smoked Sardines in Olive Oil</td>\n",
       "    </tr>\n",
       "    <tr>\n",
       "      <th>3</th>\n",
       "      <td>1</td>\n",
       "      <td>Cucumber Kirby</td>\n",
       "    </tr>\n",
       "    <tr>\n",
       "      <th>6</th>\n",
       "      <td>1</td>\n",
       "      <td>Organic Hass Avocado</td>\n",
       "    </tr>\n",
       "    <tr>\n",
       "      <th>1</th>\n",
       "      <td>1</td>\n",
       "      <td>Organic 4% Milk Fat Whole Milk Cottage Cheese</td>\n",
       "    </tr>\n",
       "    <tr>\n",
       "      <th>0</th>\n",
       "      <td>1</td>\n",
       "      <td>Bulgarian Yogurt</td>\n",
       "    </tr>\n",
       "    <tr>\n",
       "      <th>7</th>\n",
       "      <td>1</td>\n",
       "      <td>Organic Whole String Cheese</td>\n",
       "    </tr>\n",
       "    <tr>\n",
       "      <th>2</th>\n",
       "      <td>1</td>\n",
       "      <td>Organic Celery Hearts</td>\n",
       "    </tr>\n",
       "    <tr>\n",
       "      <th>5</th>\n",
       "      <td>1</td>\n",
       "      <td>Bag of Organic Bananas</td>\n",
       "    </tr>\n",
       "    <tr>\n",
       "      <th>1384623</th>\n",
       "      <td>2</td>\n",
       "      <td>Original Unflavored Gelatine Mix</td>\n",
       "    </tr>\n",
       "    <tr>\n",
       "      <th>1384620</th>\n",
       "      <td>2</td>\n",
       "      <td>Coconut Butter</td>\n",
       "    </tr>\n",
       "    <tr>\n",
       "      <th>1384624</th>\n",
       "      <td>2</td>\n",
       "      <td>All Natural No Stir Creamy Almond Butter</td>\n",
       "    </tr>\n",
       "    <tr>\n",
       "      <th>1384618</th>\n",
       "      <td>2</td>\n",
       "      <td>Michigan Organic Kale</td>\n",
       "    </tr>\n",
       "    <tr>\n",
       "      <th>1384621</th>\n",
       "      <td>2</td>\n",
       "      <td>Natural Sweetener</td>\n",
       "    </tr>\n",
       "    <tr>\n",
       "      <th>1384622</th>\n",
       "      <td>2</td>\n",
       "      <td>Carrots</td>\n",
       "    </tr>\n",
       "    <tr>\n",
       "      <th>1384617</th>\n",
       "      <td>2</td>\n",
       "      <td>Organic Egg Whites</td>\n",
       "    </tr>\n",
       "    <tr>\n",
       "      <th>1384619</th>\n",
       "      <td>2</td>\n",
       "      <td>Garlic Powder</td>\n",
       "    </tr>\n",
       "    <tr>\n",
       "      <th>1384625</th>\n",
       "      <td>2</td>\n",
       "      <td>Classic Blend Cole Slaw</td>\n",
       "    </tr>\n",
       "    <tr>\n",
       "      <th>1384631</th>\n",
       "      <td>3</td>\n",
       "      <td>Organic Ginger Root</td>\n",
       "    </tr>\n",
       "    <tr>\n",
       "      <th>1384628</th>\n",
       "      <td>3</td>\n",
       "      <td>Lemons</td>\n",
       "    </tr>\n",
       "    <tr>\n",
       "      <th>1384627</th>\n",
       "      <td>3</td>\n",
       "      <td>Unsweetened Almondmilk</td>\n",
       "    </tr>\n",
       "  </tbody>\n",
       "</table>\n",
       "</div>"
      ],
      "text/plain": [
       "         order_id                                   product_name\n",
       "4               1           Lightly Smoked Sardines in Olive Oil\n",
       "3               1                                 Cucumber Kirby\n",
       "6               1                           Organic Hass Avocado\n",
       "1               1  Organic 4% Milk Fat Whole Milk Cottage Cheese\n",
       "0               1                               Bulgarian Yogurt\n",
       "7               1                    Organic Whole String Cheese\n",
       "2               1                          Organic Celery Hearts\n",
       "5               1                         Bag of Organic Bananas\n",
       "1384623         2               Original Unflavored Gelatine Mix\n",
       "1384620         2                                 Coconut Butter\n",
       "1384624         2       All Natural No Stir Creamy Almond Butter\n",
       "1384618         2                          Michigan Organic Kale\n",
       "1384621         2                              Natural Sweetener\n",
       "1384622         2                                        Carrots\n",
       "1384617         2                             Organic Egg Whites\n",
       "1384619         2                                  Garlic Powder\n",
       "1384625         2                        Classic Blend Cole Slaw\n",
       "1384631         3                            Organic Ginger Root\n",
       "1384628         3                                         Lemons\n",
       "1384627         3                         Unsweetened Almondmilk"
      ]
     },
     "execution_count": 20,
     "metadata": {},
     "output_type": "execute_result"
    }
   ],
   "source": [
    "baskets.sort_values(['order_id']).head(20)"
   ]
  },
  {
   "cell_type": "markdown",
   "metadata": {},
   "source": [
    "### Embedding Size\n",
    "\n",
    "This will matter as we use gensim's word2vec implementation for this task. The learning task for word2vec is predicting the a missing word given a window of words around it using a single hidden layer.  Rather than caring about the quality of the prediction, the weights of the hidden layer are what represent the product embedding that we will use. The number of neurons in the hidden layer is a tunable parameter. Unfortunately, there isn't great guidance on select for this, but eyeballing the resulting embeddings can give guidance on quality of fit. Some people recommend using the 4th root of unique tokens in our corpus, which I'll try.\n",
    "\n",
    "A tunable parameter for the algorithm is the context window, how many words around the target word to use for our prediction task. Given the lack of order, we will want to use the size of the largest basket, 145 for this parameter."
   ]
  },
  {
   "cell_type": "code",
   "execution_count": 21,
   "metadata": {},
   "outputs": [
    {
     "name": "stdout",
     "output_type": "stream",
     "text": [
      "Let's use vectors of length 14 for 49685 products\n",
      "The biggest basket (window in our algorithm) will be 145\n"
     ]
    }
   ],
   "source": [
    "num_items = baskets.product_name.nunique()\n",
    "embedding_size = np.floor(num_items**0.25).astype('int')\n",
    "print('''Let's use vectors of length {n} for {tokens} products'''.format(n=embedding_size, tokens = num_items))\n",
    "\n",
    "biggest_basket = np.max(baskets.groupby('order_id').product_name.nunique())\n",
    "print('''The biggest basket (window in our algorithm) will be {}'''.format(biggest_basket))"
   ]
  },
  {
   "cell_type": "markdown",
   "metadata": {},
   "source": [
    "### Shaping our Data\n",
    "The gensim implementation of word2vec expects each document to be a list. Traditionally, each document is a list of words. In this case, each basket is a list of products. We will use the product name, which will be more expensive in memory but will make interpretation easier."
   ]
  },
  {
   "cell_type": "code",
   "execution_count": 23,
   "metadata": {},
   "outputs": [
    {
     "data": {
      "text/html": [
       "<div>\n",
       "<style scoped>\n",
       "    .dataframe tbody tr th:only-of-type {\n",
       "        vertical-align: middle;\n",
       "    }\n",
       "\n",
       "    .dataframe tbody tr th {\n",
       "        vertical-align: top;\n",
       "    }\n",
       "\n",
       "    .dataframe thead th {\n",
       "        text-align: right;\n",
       "    }\n",
       "</style>\n",
       "<table border=\"1\" class=\"dataframe\">\n",
       "  <thead>\n",
       "    <tr style=\"text-align: right;\">\n",
       "      <th></th>\n",
       "      <th>order_id</th>\n",
       "      <th>product_name</th>\n",
       "    </tr>\n",
       "  </thead>\n",
       "  <tbody>\n",
       "    <tr>\n",
       "      <th>15854604</th>\n",
       "      <td>1526854</td>\n",
       "      <td>Salted Caramel Greek Nonfat Yogurt</td>\n",
       "    </tr>\n",
       "    <tr>\n",
       "      <th>29196199</th>\n",
       "      <td>2932874</td>\n",
       "      <td>Honey Almond Butter Single</td>\n",
       "    </tr>\n",
       "    <tr>\n",
       "      <th>11154781</th>\n",
       "      <td>1031594</td>\n",
       "      <td>Organic Ginger Root</td>\n",
       "    </tr>\n",
       "    <tr>\n",
       "      <th>26696970</th>\n",
       "      <td>2669586</td>\n",
       "      <td>Organic Bosc Pear</td>\n",
       "    </tr>\n",
       "    <tr>\n",
       "      <th>30049449</th>\n",
       "      <td>3023079</td>\n",
       "      <td>Non Fat Raspberry Yogurt</td>\n",
       "    </tr>\n",
       "    <tr>\n",
       "      <th>...</th>\n",
       "      <td>...</td>\n",
       "      <td>...</td>\n",
       "    </tr>\n",
       "    <tr>\n",
       "      <th>25142377</th>\n",
       "      <td>2505655</td>\n",
       "      <td>Extra Virgin Olive Oil</td>\n",
       "    </tr>\n",
       "    <tr>\n",
       "      <th>27358394</th>\n",
       "      <td>2739053</td>\n",
       "      <td>Organic Whole Strawberries</td>\n",
       "    </tr>\n",
       "    <tr>\n",
       "      <th>16770616</th>\n",
       "      <td>1623554</td>\n",
       "      <td>Chocolate Cashew Milk</td>\n",
       "    </tr>\n",
       "    <tr>\n",
       "      <th>12391114</th>\n",
       "      <td>1161953</td>\n",
       "      <td>Soft Pretzel Burger Buns</td>\n",
       "    </tr>\n",
       "    <tr>\n",
       "      <th>18496076</th>\n",
       "      <td>1805041</td>\n",
       "      <td>Organic White Onions</td>\n",
       "    </tr>\n",
       "  </tbody>\n",
       "</table>\n",
       "<p>33819106 rows × 2 columns</p>\n",
       "</div>"
      ],
      "text/plain": [
       "          order_id                        product_name\n",
       "15854604   1526854  Salted Caramel Greek Nonfat Yogurt\n",
       "29196199   2932874          Honey Almond Butter Single\n",
       "11154781   1031594                 Organic Ginger Root\n",
       "26696970   2669586                   Organic Bosc Pear\n",
       "30049449   3023079            Non Fat Raspberry Yogurt\n",
       "...            ...                                 ...\n",
       "25142377   2505655              Extra Virgin Olive Oil\n",
       "27358394   2739053          Organic Whole Strawberries\n",
       "16770616   1623554               Chocolate Cashew Milk\n",
       "12391114   1161953            Soft Pretzel Burger Buns\n",
       "18496076   1805041                Organic White Onions\n",
       "\n",
       "[33819106 rows x 2 columns]"
      ]
     },
     "execution_count": 23,
     "metadata": {},
     "output_type": "execute_result"
    }
   ],
   "source": [
    "baskets"
   ]
  },
  {
   "cell_type": "code",
   "execution_count": 16,
   "metadata": {},
   "outputs": [
    {
     "data": {
      "text/plain": [
       "[<function __main__.<lambda>(baskets)>]"
      ]
     },
     "execution_count": 16,
     "metadata": {},
     "output_type": "execute_result"
    }
   ],
   "source": [
    "baskets =  [lambda baskets:baskets.product_name.tolist()]\n",
    "baskets"
   ]
  },
  {
   "cell_type": "code",
   "execution_count": 24,
   "metadata": {},
   "outputs": [],
   "source": [
    "#df_of_basket_lists = (baskets\n",
    "#        .groupby('order_id')\n",
    "#        .apply(lambda baskets :\n",
    "#                baskets.product_name\n",
    "#                .tolist()\n",
    "#               )\n",
    "#       )\n",
    "df_of_basket_lists = baskets.groupby('order_id')['product_name'].agg(list)\n",
    "\n",
    "#memory management\n",
    "del(baskets)"
   ]
  },
  {
   "cell_type": "code",
   "execution_count": 25,
   "metadata": {},
   "outputs": [
    {
     "data": {
      "text/plain": [
       "order_id\n",
       "1    [Cucumber Kirby, Organic Whole String Cheese, ...\n",
       "2    [All Natural No Stir Creamy Almond Butter, Coc...\n",
       "3    [Lemons, Total 2% with Strawberry Lowfat Greek...\n",
       "4    [Plain Pre-Sliced Bagels, Sugarfree Energy Dri...\n",
       "5    [American Slices Cheese, Wafer, Chocolate, Bag...\n",
       "Name: product_name, dtype: object"
      ]
     },
     "execution_count": 25,
     "metadata": {},
     "output_type": "execute_result"
    }
   ],
   "source": [
    "df_of_basket_lists.head()"
   ]
  },
  {
   "cell_type": "code",
   "execution_count": 27,
   "metadata": {},
   "outputs": [],
   "source": [
    "model = Word2Vec(df_of_basket_lists, vector_size=embedding_size, window=biggest_basket)"
   ]
  },
  {
   "cell_type": "code",
   "execution_count": 29,
   "metadata": {},
   "outputs": [],
   "source": [
    "def cosine_similarity(word_u,word_v,model):\n",
    "    \"\"\"\n",
    "    Cosine similarity gets the similarity for two products and computes the similarity \n",
    "    between two embeddings in our word2vec model\n",
    "        \n",
    "    Arguments:\n",
    "        u - numpy array of shape (n,)        \n",
    "        v - numpy array of shape (n,)\n",
    "\n",
    "    Returns:\n",
    "        cosine similarity between words u & v\n",
    "    \"\"\"\n",
    "    #get embeddings from gensim model\n",
    "    u = model.wv[word_u]\n",
    "    v = model.wv[word_v]\n",
    "\n",
    "    #compute similarity\n",
    "    dot = np.dot(u, v)\n",
    "    norm_u = np.sqrt(np.sum(u * u))\n",
    "    norm_v = np.sqrt(np.sum(v * v))\n",
    "    cosine_similarity = dot / (norm_u * norm_v)\n",
    "    \n",
    "    return cosine_similarity"
   ]
  },
  {
   "cell_type": "code",
   "execution_count": 30,
   "metadata": {},
   "outputs": [
    {
     "data": {
      "text/plain": [
       "0.9441413"
      ]
     },
     "execution_count": 30,
     "metadata": {},
     "output_type": "execute_result"
    }
   ],
   "source": [
    "#a pair of similar identity items\n",
    "cosine_similarity('Organic Whole Milk','Organic Reduced Fat Milk',model)"
   ]
  },
  {
   "cell_type": "code",
   "execution_count": 31,
   "metadata": {},
   "outputs": [
    {
     "data": {
      "text/plain": [
       "-0.40276483"
      ]
     },
     "execution_count": 31,
     "metadata": {},
     "output_type": "execute_result"
    }
   ],
   "source": [
    "# a pair of very different items\n",
    "cosine_similarity('Bag of Organic Bananas','Party Tumblers',model)"
   ]
  },
  {
   "cell_type": "code",
   "execution_count": 32,
   "metadata": {},
   "outputs": [
    {
     "data": {
      "text/plain": [
       "0.38589585"
      ]
     },
     "execution_count": 32,
     "metadata": {},
     "output_type": "execute_result"
    }
   ],
   "source": [
    "# a pair of similar items within a department\n",
    "cosine_similarity('Bag of Organic Bananas','Limes',model)"
   ]
  },
  {
   "cell_type": "code",
   "execution_count": 33,
   "metadata": {},
   "outputs": [
    {
     "data": {
      "text/plain": [
       "-0.21006641"
      ]
     },
     "execution_count": 33,
     "metadata": {},
     "output_type": "execute_result"
    }
   ],
   "source": [
    "cosine_similarity('Lemons','Limes',model)"
   ]
  },
  {
   "cell_type": "code",
   "execution_count": 37,
   "metadata": {},
   "outputs": [
    {
     "data": {
      "text/plain": [
       "0.6742805"
      ]
     },
     "execution_count": 37,
     "metadata": {},
     "output_type": "execute_result"
    }
   ],
   "source": [
    "cosine_similarity('Bag of Organic Bananas','Organic Whole Strawberries',model)"
   ]
  }
 ],
 "metadata": {
  "kernelspec": {
   "display_name": "NLP",
   "language": "python",
   "name": "nlp"
  },
  "language_info": {
   "codemirror_mode": {
    "name": "ipython",
    "version": 3
   },
   "file_extension": ".py",
   "mimetype": "text/x-python",
   "name": "python",
   "nbconvert_exporter": "python",
   "pygments_lexer": "ipython3",
   "version": "3.12.3"
  }
 },
 "nbformat": 4,
 "nbformat_minor": 2
}
