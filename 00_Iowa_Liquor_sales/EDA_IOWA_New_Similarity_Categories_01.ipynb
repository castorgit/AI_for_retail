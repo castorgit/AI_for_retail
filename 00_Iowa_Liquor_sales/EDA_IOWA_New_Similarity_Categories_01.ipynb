{
 "cells": [
  {
   "cell_type": "markdown",
   "id": "08f9ca05",
   "metadata": {},
   "source": [
    "### EDA IOWA Dataset - Creating Similarity Categories\n",
    "\n",
    "**Status:** PUBLIC Distribution <br>\n",
    "\n",
    "**Author:** Jaume Manero IE<br>\n",
    "**Date created:** 2025/02/12<br>\n",
    "**Last modified:** 2025/02/12<br>\n",
    "**Description:** We generate new categories by Similarity\n",
    "\n",
    "We use embeddings for the actual categories and reconstruct them to a new SIM_CATEGORY that is the union of the most similar ones."
   ]
  },
  {
   "cell_type": "code",
   "execution_count": 2,
   "id": "bbf84bd4",
   "metadata": {},
   "outputs": [],
   "source": [
    "import pandas as pd\n",
    "import warnings\n",
    "import matplotlib.pyplot as plt\n",
    "import matplotlib as mpl\n",
    "%matplotlib inline\n",
    "warnings.filterwarnings('ignore')"
   ]
  },
  {
   "cell_type": "code",
   "execution_count": 3,
   "id": "1070c73c",
   "metadata": {},
   "outputs": [],
   "source": [
    "file = './data/Iowa_Liquor_Sales_DEC24.csv'\n",
    "df = pd.read_csv(file, header=0)"
   ]
  },
  {
   "cell_type": "code",
   "execution_count": 4,
   "id": "ea12d1cc",
   "metadata": {},
   "outputs": [
    {
     "data": {
      "text/plain": [
       "Invoice/Item Number       object\n",
       "Date                      object\n",
       "Store Number               int64\n",
       "Store Name                object\n",
       "Address                   object\n",
       "City                      object\n",
       "Zip Code                  object\n",
       "Store Location            object\n",
       "County Number            float64\n",
       "County                    object\n",
       "Category                 float64\n",
       "Category Name             object\n",
       "Vendor Number            float64\n",
       "Vendor Name               object\n",
       "Item Number               object\n",
       "Item Description          object\n",
       "Pack                       int64\n",
       "Bottle Volume (ml)         int64\n",
       "State Bottle Cost        float64\n",
       "State Bottle Retail      float64\n",
       "Bottles Sold               int64\n",
       "Sale (Dollars)           float64\n",
       "Volume Sold (Liters)     float64\n",
       "Volume Sold (Gallons)    float64\n",
       "dtype: object"
      ]
     },
     "execution_count": 4,
     "metadata": {},
     "output_type": "execute_result"
    }
   ],
   "source": [
    "df.dtypes"
   ]
  },
  {
   "cell_type": "code",
   "execution_count": 5,
   "id": "478ccd1b",
   "metadata": {},
   "outputs": [
    {
     "data": {
      "text/plain": [
       "0              STRAIGHT BOURBON WHISKIES\n",
       "1                     TENNESSEE WHISKIES\n",
       "2                        AMERICAN VODKAS\n",
       "3                        AMERICAN VODKAS\n",
       "4                             SPICED RUM\n",
       "                        ...             \n",
       "30767342       STRAIGHT BOURBON WHISKIES\n",
       "30767343              TENNESSEE WHISKIES\n",
       "30767344    IMPORTED CORDIALS & LIQUEURS\n",
       "30767345               CANADIAN WHISKIES\n",
       "30767346               AMERICAN DRY GINS\n",
       "Name: Category Name, Length: 30767347, dtype: object"
      ]
     },
     "execution_count": 5,
     "metadata": {},
     "output_type": "execute_result"
    }
   ],
   "source": [
    "df['Category Name']"
   ]
  },
  {
   "cell_type": "code",
   "execution_count": 24,
   "id": "603d7423",
   "metadata": {},
   "outputs": [],
   "source": [
    "categories = df[['Category Name']]\n",
    "categories = categories.drop_duplicates(subset=['Category Name'], keep='first')\n",
    "categories.dropna\n",
    "categories = categories.dropna(subset=['Category Name'])"
   ]
  },
  {
   "cell_type": "code",
   "execution_count": 25,
   "id": "16444f73",
   "metadata": {},
   "outputs": [
    {
     "data": {
      "text/html": [
       "<div>\n",
       "<style scoped>\n",
       "    .dataframe tbody tr th:only-of-type {\n",
       "        vertical-align: middle;\n",
       "    }\n",
       "\n",
       "    .dataframe tbody tr th {\n",
       "        vertical-align: top;\n",
       "    }\n",
       "\n",
       "    .dataframe thead th {\n",
       "        text-align: right;\n",
       "    }\n",
       "</style>\n",
       "<table border=\"1\" class=\"dataframe\">\n",
       "  <thead>\n",
       "    <tr style=\"text-align: right;\">\n",
       "      <th></th>\n",
       "      <th>Category Name</th>\n",
       "    </tr>\n",
       "  </thead>\n",
       "  <tbody>\n",
       "    <tr>\n",
       "      <th>0</th>\n",
       "      <td>STRAIGHT BOURBON WHISKIES</td>\n",
       "    </tr>\n",
       "    <tr>\n",
       "      <th>1</th>\n",
       "      <td>TENNESSEE WHISKIES</td>\n",
       "    </tr>\n",
       "    <tr>\n",
       "      <th>2</th>\n",
       "      <td>AMERICAN VODKAS</td>\n",
       "    </tr>\n",
       "    <tr>\n",
       "      <th>4</th>\n",
       "      <td>SPICED RUM</td>\n",
       "    </tr>\n",
       "    <tr>\n",
       "      <th>7</th>\n",
       "      <td>IMPORTED CORDIALS &amp; LIQUEURS</td>\n",
       "    </tr>\n",
       "    <tr>\n",
       "      <th>...</th>\n",
       "      <td>...</td>\n",
       "    </tr>\n",
       "    <tr>\n",
       "      <th>18452140</th>\n",
       "      <td>DELISTED ITEMS</td>\n",
       "    </tr>\n",
       "    <tr>\n",
       "      <th>19329022</th>\n",
       "      <td>DELISTED / SPECIAL ORDER ITEMS</td>\n",
       "    </tr>\n",
       "    <tr>\n",
       "      <th>22029522</th>\n",
       "      <td>IMPORTED WHISKIES</td>\n",
       "    </tr>\n",
       "    <tr>\n",
       "      <th>23383970</th>\n",
       "      <td>AMERICAN WHISKIES</td>\n",
       "    </tr>\n",
       "    <tr>\n",
       "      <th>26422757</th>\n",
       "      <td>HOLIDAY VAP</td>\n",
       "    </tr>\n",
       "  </tbody>\n",
       "</table>\n",
       "<p>103 rows × 1 columns</p>\n",
       "</div>"
      ],
      "text/plain": [
       "                           Category Name\n",
       "0              STRAIGHT BOURBON WHISKIES\n",
       "1                     TENNESSEE WHISKIES\n",
       "2                        AMERICAN VODKAS\n",
       "4                             SPICED RUM\n",
       "7           IMPORTED CORDIALS & LIQUEURS\n",
       "...                                  ...\n",
       "18452140                  DELISTED ITEMS\n",
       "19329022  DELISTED / SPECIAL ORDER ITEMS\n",
       "22029522               IMPORTED WHISKIES\n",
       "23383970               AMERICAN WHISKIES\n",
       "26422757                     HOLIDAY VAP\n",
       "\n",
       "[103 rows x 1 columns]"
      ]
     },
     "execution_count": 25,
     "metadata": {},
     "output_type": "execute_result"
    }
   ],
   "source": [
    "categories"
   ]
  },
  {
   "cell_type": "code",
   "execution_count": 141,
   "id": "a56642a4",
   "metadata": {},
   "outputs": [],
   "source": [
    "import gensim.downloader as api\n",
    "from scipy.spatial.distance import cosine\n",
    "\n",
    "model = api.load('fasttext-wiki-news-subwords-300')                # This is the embeddings vocabulary from wikipedia"
   ]
  },
  {
   "cell_type": "code",
   "execution_count": 122,
   "id": "70abb505",
   "metadata": {},
   "outputs": [
    {
     "name": "stdout",
     "output_type": "stream",
     "text": [
      "['fasttext-wiki-news-subwords-300', 'conceptnet-numberbatch-17-06-300', 'word2vec-ruscorpora-300', 'word2vec-google-news-300', 'glove-wiki-gigaword-50', 'glove-wiki-gigaword-100', 'glove-wiki-gigaword-200', 'glove-wiki-gigaword-300', 'glove-twitter-25', 'glove-twitter-50', 'glove-twitter-100', 'glove-twitter-200', '__testing_word2vec-matrix-synopsis']\n"
     ]
    }
   ],
   "source": [
    "print(list(api.info()['models'].keys()))"
   ]
  },
  {
   "cell_type": "code",
   "execution_count": 143,
   "id": "14ec0164",
   "metadata": {},
   "outputs": [],
   "source": [
    "def get_average_vector(name):\n",
    "    words = name.lower().split()\n",
    "    word_vectors = [model[word] for word in words if word in model]\n",
    "    if len(word_vectors) > 0:\n",
    "        return sum(word_vectors) / len(word_vectors)\n",
    "    else:\n",
    "        return None"
   ]
  },
  {
   "cell_type": "code",
   "execution_count": 144,
   "id": "c112a491",
   "metadata": {},
   "outputs": [],
   "source": [
    "cat_list = categories['Category Name'].tolist()"
   ]
  },
  {
   "cell_type": "code",
   "execution_count": 145,
   "id": "d6a112e1",
   "metadata": {},
   "outputs": [],
   "source": [
    "name_vector_list = []\n",
    "for name in cat_list:\n",
    "    vector = get_average_vector(name)\n",
    "    name_vector_list.append((name, vector))"
   ]
  },
  {
   "cell_type": "code",
   "execution_count": null,
   "id": "b1dcbebf",
   "metadata": {},
   "outputs": [],
   "source": []
  },
  {
   "cell_type": "code",
   "execution_count": 146,
   "id": "fd6d9a72",
   "metadata": {},
   "outputs": [],
   "source": [
    "# Convert names to vectors\n",
    "#name_vectors = {name: get_average_vector(name) for name in cat_list if get_average_vector(name) is not None}"
   ]
  },
  {
   "cell_type": "code",
   "execution_count": 159,
   "id": "86be8fe7",
   "metadata": {},
   "outputs": [
    {
     "name": "stdout",
     "output_type": "stream",
     "text": [
      "Canadian' and 'CANADIAN WHISKIES': 0.81\n",
      "Canadian' and 'AMERICAN BRANDIES': 0.68\n",
      "Canadian' and 'AMERICAN SCHNAPPS': 0.66\n",
      "Canadian' and 'AMERICAN WHISKIES': 0.66\n",
      "Canadian' and 'AMERICAN AMARETTO': 0.65\n",
      "Canadian' and 'AMERICAN ALCOHOL': 0.63\n",
      "Canadian' and 'AMERICAN VODKAS': 0.63\n",
      "Canadian' and 'AMERICAN COCKTAILS': 0.62\n",
      "Canadian' and 'AMERICAN DISTILLED SPIRITS SPECIALTY': 0.58\n",
      "Canadian' and 'AMERICAN FLAVORED VODKA': 0.57\n",
      "Canadian' and 'AMERICAN GRAPE BRANDIES': 0.56\n",
      "Canadian' and 'JAPANESE WHISKY': 0.56\n",
      "Canadian' and 'IRISH WHISKIES': 0.55\n",
      "Canadian' and 'AMERICAN SLOE GINS': 0.53\n",
      "Canadian' and 'HIGH PROOF BEER - AMERICAN': 0.50\n",
      "Canadian' and 'AMERICAN DRY GINS': 0.50\n",
      "Canadian' and 'TENNESSEE WHISKIES': 0.46\n",
      "Canadian' and 'NEUTRAL GRAIN SPIRITS FLAVORED': 0.44\n",
      "Canadian' and 'SINGLE BARREL BOURBON WHISKIES': 0.43\n",
      "Canadian' and 'SINGLE MALT SCOTCH': 0.43\n",
      "Canadian' and 'OTHER PROOF VODKA': 0.42\n",
      "Canadian' and 'IOWA DISTILLERY WHISKIES': 0.42\n",
      "Canadian' and 'WHITE RUM': 0.42\n",
      "Canadian' and 'NEUTRAL GRAIN SPIRITS': 0.41\n",
      "Canadian' and 'BOTTLED IN BOND BOURBON': 0.41\n",
      "Canadian' and 'JAMAICA RUM': 0.41\n",
      "Canadian' and 'IMPORTED BRANDIES': 0.41\n",
      "Canadian' and 'GOLD RUM': 0.41\n",
      "Canadian' and 'BARBADOS RUM': 0.41\n",
      "Canadian' and 'IMPORTED DISTILLED SPIRITS SPECIALTY': 0.40\n",
      "Canadian' and 'IOWA DISTILLERIES': 0.40\n",
      "Canadian' and 'IMPORTED FLAVORED VODKA': 0.40\n",
      "Canadian' and 'LOW PROOF VODKA': 0.40\n",
      "Canadian' and 'IMPORTED SCHNAPPS': 0.40\n",
      "Canadian' and 'TROPICAL FRUIT SCHNAPPS': 0.40\n",
      "Canadian' and 'MISC. AMERICAN CORDIALS & LIQUEURS': 0.39\n",
      "Canadian' and 'STRAIGHT BOURBON WHISKIES': 0.39\n",
      "Canadian' and 'AGED DARK RUM': 0.39\n",
      "Canadian' and 'IMPORTED VODKAS': 0.39\n",
      "Canadian' and 'IMPORTED GRAPE BRANDIES': 0.39\n",
      "Canadian' and '100 PROOF VODKA': 0.39\n",
      "Canadian' and 'ROOT BEER SCHNAPPS': 0.39\n",
      "Canadian' and 'PUERTO RICO & VIRGIN ISLANDS RUM': 0.39\n",
      "Canadian' and 'IMPORTED WHISKIES': 0.38\n",
      "Canadian' and 'SCOTCH WHISKIES': 0.38\n",
      "Canadian' and 'MISCELLANEOUS  BRANDIES': 0.38\n",
      "Canadian' and 'CINNAMON SCHNAPPS': 0.38\n",
      "Canadian' and 'DISTILLED SPIRITS SPECIALTY': 0.37\n",
      "Canadian' and 'BLACKBERRY BRANDIES': 0.37\n",
      "Canadian' and 'MISCELLANEOUS SCHNAPPS': 0.37\n",
      "Canadian' and 'CORN WHISKIES': 0.36\n",
      "Canadian' and 'VODKA 80 PROOF': 0.36\n",
      "Canadian' and 'IMPORTED AMARETTO': 0.36\n",
      "Canadian' and 'FLAVORED RUM': 0.36\n",
      "Canadian' and 'RASPBERRY SCHNAPPS': 0.36\n",
      "Canadian' and 'BUTTERSCOTCH SCHNAPPS': 0.36\n",
      "Canadian' and 'SPEARMINT SCHNAPPS': 0.36\n",
      "Canadian' and 'AMERICAN CORDIALS & LIQUEURS': 0.36\n",
      "Canadian' and 'HOLIDAY VAP': 0.35\n",
      "Canadian' and 'STRAWBERRY SCHNAPPS': 0.35\n",
      "Canadian' and 'IMPORTED DRY GINS': 0.35\n",
      "Canadian' and 'PEACH BRANDIES': 0.35\n",
      "Canadian' and 'APPLE SCHNAPPS': 0.35\n",
      "Canadian' and 'VODKA FLAVORED': 0.35\n",
      "Canadian' and 'SPECIAL ORDER ITEMS': 0.35\n",
      "Canadian' and 'CHERRY BRANDIES': 0.34\n",
      "Canadian' and 'STRAIGHT RYE WHISKIES': 0.34\n",
      "Canadian' and 'IMPORTED VODKA - MISC': 0.34\n",
      "Canadian' and 'IMPORTED GINS': 0.34\n",
      "Canadian' and 'FLAVORED GIN': 0.34\n",
      "Canadian' and 'BLENDED WHISKIES': 0.33\n",
      "Canadian' and 'WHISKEY LIQUEUR': 0.33\n",
      "Canadian' and 'PEACH SCHNAPPS': 0.33\n",
      "Canadian' and 'SPICED RUM': 0.33\n",
      "Canadian' and 'TRIPLE SEC': 0.32\n",
      "Canadian' and 'WHITE CREME DE MENTHE': 0.32\n",
      "Canadian' and 'FLAVORED GINS': 0.32\n",
      "Canadian' and 'PEPPERMINT SCHNAPPS': 0.32\n",
      "Canadian' and 'WHITE CREME DE CACAO': 0.32\n",
      "Canadian' and 'CREAM LIQUEURS': 0.32\n",
      "Canadian' and 'GREEN CREME DE MENTHE': 0.31\n",
      "Canadian' and 'DARK CREME DE CACAO': 0.31\n",
      "Canadian' and 'GRAPE SCHNAPPS': 0.31\n",
      "Canadian' and 'DELISTED / SPECIAL ORDER ITEMS': 0.31\n",
      "Canadian' and 'APRICOT BRANDIES': 0.31\n",
      "Canadian' and 'WATERMELON SCHNAPPS': 0.31\n",
      "Canadian' and 'MISC. IMPORTED CORDIALS & LIQUEURS': 0.30\n",
      "Canadian' and 'COFFEE LIQUEURS': 0.29\n",
      "Canadian' and 'ANISETTE': 0.28\n",
      "Canadian' and 'IMPORTED VODKA - CHERRY': 0.28\n",
      "Canadian' and 'MIXTO TEQUILA': 0.27\n",
      "Canadian' and '100% AGAVE TEQUILA': 0.27\n",
      "Canadian' and 'DELISTED ITEMS': 0.27\n",
      "Canadian' and 'CREME DE ALMOND': 0.26\n",
      "Canadian' and 'ROCK & RYE': 0.25\n",
      "Canadian' and 'TEMPORARY & SPECIALTY PACKAGES': 0.25\n",
      "Canadian' and 'IMPORTED CORDIALS & LIQUEURS': 0.24\n",
      "Canadian' and 'TEQUILA': 0.23\n",
      "Canadian' and 'MEZCAL': 0.22\n",
      "Canadian' and 'DECANTERS & SPECIALTY PACKAGES': 0.21\n",
      "Canadian' and 'SCHNAPPS - IMPORTED': 0.21\n",
      "Canadian' and 'AMARETTO - IMPORTED': 0.17\n",
      "Canadian' and 'COCKTAILS/RTD': 0.00\n"
     ]
    }
   ],
   "source": [
    "# Now we can see the similar categories\n",
    "\n",
    "# We create a vector for a category\n",
    "Category_name = 'Canadian'\n",
    "# Calculate embedding\n",
    "Category_vector = get_average_vector(Category_name)\n",
    "\n",
    "# Now we list the most similar items to one\n",
    "sims = []\n",
    "# Calculate and print cosine similarity between each pair of names\n",
    "for name1, vec1 in name_vector_list:\n",
    "    if name1 == 'COCKTAILS/RTD':\n",
    "        sim = 0\n",
    "    else:\n",
    "        sim = 1 - cosine(vec1.flatten(), Category_vector.flatten())  # cosine function returns the distance, so 1 - distance gives similarity\n",
    "    sims.append((Category_name, name1, sim))\n",
    "    \n",
    "    \n",
    "sims_sorted = sorted(sims, key=lambda x: x[2], reverse=True)\n",
    "    \n",
    "for item in sims_sorted:\n",
    "    print(f\"{item[0]}' and '{item[1]}': {item[2]:.2f}\")"
   ]
  },
  {
   "cell_type": "code",
   "execution_count": null,
   "id": "14e4402b",
   "metadata": {},
   "outputs": [],
   "source": []
  }
 ],
 "metadata": {
  "kernelspec": {
   "display_name": "NLP",
   "language": "python",
   "name": "nlp"
  },
  "language_info": {
   "codemirror_mode": {
    "name": "ipython",
    "version": 3
   },
   "file_extension": ".py",
   "mimetype": "text/x-python",
   "name": "python",
   "nbconvert_exporter": "python",
   "pygments_lexer": "ipython3",
   "version": "3.12.3"
  }
 },
 "nbformat": 4,
 "nbformat_minor": 5
}
